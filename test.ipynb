{
 "cells": [
  {
   "cell_type": "code",
   "execution_count": 18,
   "id": "cutting-blood",
   "metadata": {},
   "outputs": [],
   "source": [
    "from sentence_transformers import SentenceTransformer, util\n",
    "import os\n",
    "import csv\n",
    "import time\n",
    "import json\n",
    "\n",
    "def load_data(file):\n",
    "    with open (file, \"r\", encoding=\"utf-8\") as f:\n",
    "        data = json.load(f)\n",
    "    return (data)\n",
    "\n",
    "def write_data(file, data):\n",
    "    with open (file, \"w\", encoding=\"utf-8\") as f:\n",
    "        json.dump(data, f, indent=4)"
   ]
  },
  {
   "cell_type": "code",
   "execution_count": 12,
   "id": "secure-unemployment",
   "metadata": {},
   "outputs": [],
   "source": [
    "with open (\"data/vol7.json\", \"r\", encoding=\"utf-8\") as f:\n",
    "    descs = json.load(f)[\"descriptions\"]\n",
    "with open (\"data/vol7.json\", \"r\", encoding=\"utf-8\") as f:\n",
    "    names = json.load(f)[\"names\"]"
   ]
  },
  {
   "cell_type": "code",
   "execution_count": 3,
   "id": "experienced-translator",
   "metadata": {},
   "outputs": [],
   "source": [
    "# Model for computing sentence embeddings. We use one trained for similar questions detection\n",
    "model = SentenceTransformer('paraphrase-MiniLM-L6-v2')"
   ]
  },
  {
   "cell_type": "code",
   "execution_count": 4,
   "id": "suffering-dance",
   "metadata": {},
   "outputs": [
    {
     "data": {
      "application/vnd.jupyter.widget-view+json": {
       "model_id": "28b3d0f5862049cdb830a4f6b2c55f1f",
       "version_major": 2,
       "version_minor": 0
      },
      "text/plain": [
       "Batches:   0%|          | 0/340 [00:00<?, ?it/s]"
      ]
     },
     "metadata": {},
     "output_type": "display_data"
    }
   ],
   "source": [
    "corpus_embeddings = model.encode(descs, batch_size=64, show_progress_bar=True, convert_to_tensor=True)"
   ]
  },
  {
   "cell_type": "code",
   "execution_count": null,
   "id": "mineral-policy",
   "metadata": {},
   "outputs": [],
   "source": [
    "paraphrases = util.paraphrase_mining(model, sentences)\n",
    "\n",
    "for paraphrase in paraphrases[0:10]:\n",
    "    score, i, j = paraphrase\n",
    "    print(\"{} \\t\\t {} \\t\\t Score: {:.4f}\".format(sentences[i], sentences[j], score))"
   ]
  },
  {
   "cell_type": "code",
   "execution_count": 6,
   "id": "wooden-editor",
   "metadata": {},
   "outputs": [],
   "source": [
    "paraphrases = util.paraphrase_mining(model, descs, corpus_chunk_size=len(descs), top_k=10)"
   ]
  },
  {
   "cell_type": "code",
   "execution_count": 9,
   "id": "instant-spring",
   "metadata": {},
   "outputs": [
    {
     "name": "stdout",
     "output_type": "stream",
     "text": [
      "172422\n"
     ]
    }
   ],
   "source": [
    "print (len(paraphrases))"
   ]
  },
  {
   "cell_type": "code",
   "execution_count": 17,
   "id": "answering-sixth",
   "metadata": {},
   "outputs": [
    {
     "name": "stdout",
     "output_type": "stream",
     "text": [
      "Victim 1: Num: AARON, Thabo Simon\n",
      "An ANCYL member who was shot and severely injured by SAP members at Lephoi, Bethulie, Orange Free State (OFS) on 17 April 1991. Police opened fire on a gathering at an ANC supporter's house following a dispute between two neighbours, one of whom was linked to the ANC and the other to the SAP and a councillor.\n",
      "\n",
      "Victim 2: Num: KGATLHANE, Tommy Kgosimang\n",
      "An ANCYL member who was shot and injured by a member of the SAP in Griekwastad, Cape, on 2 July 1991, during conflict between the ANC and a vigilante group known as the Inkatha gang.\n",
      "0.8138654828071594\n",
      "\n",
      "\n",
      "\n",
      "\n",
      "Victim 1: Num: AARON, Thabo Simon\n",
      "An ANCYL member who was shot and severely injured by SAP members at Lephoi, Bethulie, Orange Free State (OFS) on 17 April 1991. Police opened fire on a gathering at an ANC supporter's house following a dispute between two neighbours, one of whom was linked to the ANC and the other to the SAP and a councillor.\n",
      "\n",
      "Victim 2: Num: GUZANA, Moses Phakamile\n",
      "An ANCYL member who was shot and injured when members of the SAP opened fire on a crowd of ANC supporters marching to the Koppies court in KwaKwatsi, Koppies, Orange Free State, on 30 March 1990.\n",
      "0.8105047941207886\n",
      "\n",
      "\n",
      "\n",
      "\n",
      "Victim 1: Num: AARON, Thabo Simon\n",
      "An ANCYL member who was shot and severely injured by SAP members at Lephoi, Bethulie, Orange Free State (OFS) on 17 April 1991. Police opened fire on a gathering at an ANC supporter's house following a dispute between two neighbours, one of whom was linked to the ANC and the other to the SAP and a councillor.\n",
      "\n",
      "Victim 2: Num: MOGANO, Mmashipi Aldo\n",
      "An ANCYL leader who was shot and killed by members of the SAP on 7 April 1990 in Alexandra, Johannesburg, during intense conflict between IFP and ANC supporters in the area.\n",
      "0.8039885759353638\n",
      "\n",
      "\n",
      "\n",
      "\n",
      "Victim 1: Num: AARON, Thabo Simon\n",
      "An ANCYL member who was shot and severely injured by SAP members at Lephoi, Bethulie, Orange Free State (OFS) on 17 April 1991. Police opened fire on a gathering at an ANC supporter's house following a dispute between two neighbours, one of whom was linked to the ANC and the other to the SAP and a councillor.\n",
      "\n",
      "Victim 2: Num: MATUTOANE, Mpule Johanna\n",
      "An ANC supporter who was shot in the left shoulder in Gobizitwana beer hall in Zone 14, Sebokeng, Transvaal, by residents of the Kwa-Madala hostel on 23 May 1991 during conflict between mainly IFP-supporting hostel-dwellers and ANC-supporting residents. Five people died and 18 were seriously injured in the attack shortly after the attack on a night vigil for ANCYL member. The death toll later rose to 14.\n",
      "0.8006062507629395\n",
      "\n",
      "\n",
      "\n",
      "\n",
      "Victim 1: Num: AARON, Thabo Simon\n",
      "An ANCYL member who was shot and severely injured by SAP members at Lephoi, Bethulie, Orange Free State (OFS) on 17 April 1991. Police opened fire on a gathering at an ANC supporter's house following a dispute between two neighbours, one of whom was linked to the ANC and the other to the SAP and a councillor.\n",
      "\n",
      "Victim 2: Num: MOABI, Sabata Daniel\n",
      "An ANC supporter who was shot and severely injured by SAP members during the state of emergency in Tumahole, Parys, OFS, on 8 October 1988, allegedly in a random shooting. See police brutality.\n",
      "0.7935440540313721\n",
      "\n",
      "\n",
      "\n",
      "\n",
      "Victim 1: Num: AARON, Thabo Simon\n",
      "An ANCYL member who was shot and severely injured by SAP members at Lephoi, Bethulie, Orange Free State (OFS) on 17 April 1991. Police opened fire on a gathering at an ANC supporter's house following a dispute between two neighbours, one of whom was linked to the ANC and the other to the SAP and a councillor.\n",
      "\n",
      "Victim 2: Num: THOBI, Douglas\n",
      "An ANCYL supporter who was shot dead by a named member of the SAP in Sebokeng, Tvl, on 4 December 1992 during conflict between IFP and ANC supporters. \n",
      "0.7917875051498413\n",
      "\n",
      "\n",
      "\n",
      "\n",
      "Victim 1: Num: AARON, Thabo Simon\n",
      "An ANCYL member who was shot and severely injured by SAP members at Lephoi, Bethulie, Orange Free State (OFS) on 17 April 1991. Police opened fire on a gathering at an ANC supporter's house following a dispute between two neighbours, one of whom was linked to the ANC and the other to the SAP and a councillor.\n",
      "\n",
      "Victim 2: Num: HLEZA, Sthuli Godwin\n",
      "An ANCYL leader who was shot dead by an IFP supporter and a member of the SAP in Piet Retief, Transvaal on 3 June 1992. At the time there were a number of clashes between the IFP and ANC in the area.\n",
      "0.7890859246253967\n",
      "\n",
      "\n",
      "\n",
      "\n",
      "Victim 1: Num: AARON, Thabo Simon\n",
      "An ANCYL member who was shot and severely injured by SAP members at Lephoi, Bethulie, Orange Free State (OFS) on 17 April 1991. Police opened fire on a gathering at an ANC supporter's house following a dispute between two neighbours, one of whom was linked to the ANC and the other to the SAP and a councillor.\n",
      "\n",
      "Victim 2: Num: LEEUW, Libakiso Sinah\n",
      "An ANC supporter who was shot and injured by members of the SAP in Smithfield, Orange Free State (OFS), on 19 April 1990, when police opened fire on protesters involved in a school boycott. The vehicle was burnt and destroyed. Two months later, she was detained and tortured, allegedly for information about the names and activities of other ANC supporters. \n",
      "0.7852870225906372\n",
      "\n",
      "\n",
      "\n",
      "\n",
      "Victim 1: Num: AARON, Thabo Simon\n",
      "An ANCYL member who was shot and severely injured by SAP members at Lephoi, Bethulie, Orange Free State (OFS) on 17 April 1991. Police opened fire on a gathering at an ANC supporter's house following a dispute between two neighbours, one of whom was linked to the ANC and the other to the SAP and a councillor.\n",
      "\n",
      "Victim 2: Num: MAJOZI, Sbusiso Ewart\n",
      "An ANC supporter who was shot dead when a named SAP member, who allegedly supported the IFP, opened fire on a group of people at the Majozi home in Nhlalakahle, Greytown, Natal, on 15 September 1990. One other person was killed and two were injured in the attack.\n",
      "0.7835527658462524\n",
      "\n",
      "\n",
      "\n",
      "\n",
      "Victim 1: Num: AARON, Thabo Simon\n",
      "An ANCYL member who was shot and severely injured by SAP members at Lephoi, Bethulie, Orange Free State (OFS) on 17 April 1991. Police opened fire on a gathering at an ANC supporter's house following a dispute between two neighbours, one of whom was linked to the ANC and the other to the SAP and a councillor.\n",
      "\n",
      "Victim 2: Num: FUTYANA, Phumzile William\n",
      "An ANCYL member who died after he was shot by members of the SAP in Khutsong, Carletonville, Transvaal, on 29 September 1991. He was going to the shop with a friend when police opened fire, allegedly without provocation.\n",
      "0.7828627228736877\n",
      "\n",
      "\n",
      "\n",
      "\n"
     ]
    }
   ],
   "source": [
    "for paraphrase in paraphrases:\n",
    "    score, i, j = paraphrase\n",
    "    if i == 0:\n",
    "        sent1 = descs[i]\n",
    "        sent2 = descs[j]\n",
    "        print (f\"Victim 1: Num: {names[i]}\\n{sent1}\\n\")\n",
    "        print (f\"Victim 2: Num: {names[j]}\\n{sent2}\")\n",
    "        print (f\"{score}\\n\\n\\n\\n\")"
   ]
  },
  {
   "cell_type": "code",
   "execution_count": 19,
   "id": "young-italy",
   "metadata": {},
   "outputs": [],
   "source": [
    "write_data(\"data/paraphrases-10.json\", paraphrases)"
   ]
  },
  {
   "cell_type": "code",
   "execution_count": null,
   "id": "first-publicity",
   "metadata": {},
   "outputs": [],
   "source": []
  },
  {
   "cell_type": "code",
   "execution_count": null,
   "id": "undefined-silver",
   "metadata": {},
   "outputs": [],
   "source": [
    "# clusters = util.community_detection(corpus_embeddings, min_community_size=25, threshold=0.75)\n",
    "\n",
    "# print(\"Clustering done after {:.2f} sec\".format(time.time() - start_time))\n",
    "\n",
    "# #Print for all clusters the top 3 and bottom 3 elements\n",
    "# for i, cluster in enumerate(clusters):\n",
    "#     print(\"\\nCluster {}, #{} Elements \".format(i+1, len(cluster)))\n",
    "#     for sentence_id in cluster[0:3]:\n",
    "#         print(\"\\t\", corpus_sentences[sentence_id])\n",
    "#     print(\"\\t\", \"...\")\n",
    "#     for sentence_id in cluster[-3:]:\n",
    "#         print(\"\\t\", corpus_sentences[sentence_id])\n"
   ]
  }
 ],
 "metadata": {
  "kernelspec": {
   "display_name": "Python 3",
   "language": "python",
   "name": "python3"
  },
  "language_info": {
   "codemirror_mode": {
    "name": "ipython",
    "version": 3
   },
   "file_extension": ".py",
   "mimetype": "text/x-python",
   "name": "python",
   "nbconvert_exporter": "python",
   "pygments_lexer": "ipython3",
   "version": "3.9.2"
  }
 },
 "nbformat": 4,
 "nbformat_minor": 5
}
