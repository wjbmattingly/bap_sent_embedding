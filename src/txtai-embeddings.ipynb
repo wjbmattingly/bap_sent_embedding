{
 "cells": [
  {
   "cell_type": "code",
   "execution_count": 2,
   "id": "8e4e8b24-c972-4263-abc4-eed7e074535d",
   "metadata": {},
   "outputs": [],
   "source": [
    "import json\n",
    "import glob\n",
    "from txtai.embeddings import Embeddings"
   ]
  },
  {
   "cell_type": "code",
   "execution_count": 3,
   "id": "fc6c3b9d-0a92-44c7-92e2-8104af149134",
   "metadata": {},
   "outputs": [
    {
     "name": "stdout",
     "output_type": "stream",
     "text": [
      "2460\n"
     ]
    }
   ],
   "source": [
    "files = glob.glob(f\"../data/data_saha/*/*/*.json\")\n",
    "print (len(files))"
   ]
  },
  {
   "cell_type": "code",
   "execution_count": 56,
   "id": "c61302d9-763b-4f5c-93e7-3499bf9279a1",
   "metadata": {},
   "outputs": [
    {
     "name": "stdout",
     "output_type": "stream",
     "text": [
      "675940\n"
     ]
    }
   ],
   "source": [
    "documents = []\n",
    "segments = {\"files\": []}\n",
    "x=0\n",
    "for filename in files:\n",
    "    with open(filename, \"r\") as f:\n",
    "        data = json.load(f)\n",
    "    testimony = data[\"testimony\"]\n",
    "    # segments[\"files\"].append(filename)\n",
    "    for i, segment in enumerate(testimony):\n",
    "        speaker, dialogue, gender = segment\n",
    "        # segments[x] = [filename, i]\n",
    "        # segments[\"segments\"].append({i})\n",
    "        documents.append((f\"{filename}_{i}---{speaker}_{gender}\", dialogue, speaker, gender))\n",
    "        x=x+1\n",
    "print (len(documents))"
   ]
  },
  {
   "cell_type": "code",
   "execution_count": 57,
   "id": "82fea476-83f8-44ca-a07a-9a3c0eeabf91",
   "metadata": {},
   "outputs": [
    {
     "data": {
      "text/plain": [
       "[('../data/data_saha\\\\amnesty_hearings\\\\aliwal_north\\\\54583.json_0---MR PRIOR_Male',\n",
       "  'May I proceed Mr Chairman?',\n",
       "  'MR PRIOR',\n",
       "  'Male')]"
      ]
     },
     "execution_count": 57,
     "metadata": {},
     "output_type": "execute_result"
    }
   ],
   "source": [
    "documents[:1]"
   ]
  },
  {
   "cell_type": "code",
   "execution_count": 58,
   "id": "d586138e-d742-4856-ac02-e6139fd4cfa7",
   "metadata": {},
   "outputs": [],
   "source": [
    "embeddings = Embeddings({\"path\": \"sentence-transformers/nli-mpnet-base-v2\", \"content\": True})"
   ]
  },
  {
   "cell_type": "code",
   "execution_count": 59,
   "id": "80dcd0a6-3355-4d6f-a925-eda4b230ce32",
   "metadata": {},
   "outputs": [],
   "source": [
    "embeddings.index([(uid, text, f\"{speaker} {gender}\") for uid, text, speaker, gender in documents[:1000]])"
   ]
  },
  {
   "cell_type": "code",
   "execution_count": 63,
   "id": "ee22c5bc-639f-4966-a047-3daf42e8f37a",
   "metadata": {},
   "outputs": [
    {
     "data": {
      "text/plain": [
       "[{'id': '../data/data_saha\\\\amnesty_hearings\\\\aliwal_north\\\\54583.json_263---PHILA MARTIN DOLO_Male',\n",
       "  'text': 'There were guns.',\n",
       "  'score': 0.7930391430854797,\n",
       "  'tokens': [('There', -0.005476236343383789),\n",
       "   ('were', -0.012428700923919678),\n",
       "   ('guns.', 0.5534553527832031)]}]"
      ]
     },
     "execution_count": 63,
     "metadata": {},
     "output_type": "execute_result"
    }
   ],
   "source": [
    "embeddings.explain(\"violence by guns\", limit=1)"
   ]
  },
  {
   "cell_type": "code",
   "execution_count": 68,
   "id": "9b54731b-363f-4575-92aa-1aa87f810f19",
   "metadata": {},
   "outputs": [
    {
     "data": {
      "text/html": [
       "<b>burn</b><br/>...(inaudible) you said that you were powerful by using <span style='background-color: #ffee58'>fire</span> and <span style='background-color: #fdd835'>burning</span> the vehicle and so on. No, I just understand now, it's fine. "
      ],
      "text/plain": [
       "<IPython.core.display.HTML object>"
      ]
     },
     "execution_count": 68,
     "metadata": {},
     "output_type": "execute_result"
    }
   ],
   "source": [
    "from IPython.display import HTML\n",
    "\n",
    "def plot(query):\n",
    "    result = embeddings.explain(query, limit=1)[0]\n",
    "    \n",
    "    output = f\"<b>{query}</b><br/>\"\n",
    "    spans = []\n",
    "    for token, score in result[\"tokens\"]:\n",
    "        color = None\n",
    "        if score >= 0.1:\n",
    "            color = \"#fdd835\"\n",
    "        elif score >= 0.075:\n",
    "            color = \"#ffeb3b\"\n",
    "        elif score >= 0.05:\n",
    "            color = \"#ffee58\"\n",
    "        elif score >= 0.02:\n",
    "            color = \"#fff59d\"\n",
    "\n",
    "        spans.append((token, score, color))\n",
    "\n",
    "    if result[\"score\"] >= 0.05 and not [color for _, _, color in spans if color]:\n",
    "        mscore = max([score for _, score, _ in spans])\n",
    "        spans = [(token, score, \"#fff59d\" if score == mscore else color) for token, score, color in spans]\n",
    "\n",
    "    for token, _, color in spans:\n",
    "        if color:\n",
    "            output += f\"<span style='background-color: {color}'>{token}</span> \"\n",
    "        else:\n",
    "            output += f\"{token} \"\n",
    "\n",
    "    return output\n",
    "\n",
    "HTML(plot(\"burn\"))"
   ]
  },
  {
   "cell_type": "code",
   "execution_count": null,
   "id": "d456ce73-32ae-48e0-81a9-aff23568172d",
   "metadata": {},
   "outputs": [],
   "source": []
  }
 ],
 "metadata": {
  "kernelspec": {
   "display_name": "Python 3 (ipykernel)",
   "language": "python",
   "name": "python3"
  },
  "language_info": {
   "codemirror_mode": {
    "name": "ipython",
    "version": 3
   },
   "file_extension": ".py",
   "mimetype": "text/x-python",
   "name": "python",
   "nbconvert_exporter": "python",
   "pygments_lexer": "ipython3",
   "version": "3.7.13"
  }
 },
 "nbformat": 4,
 "nbformat_minor": 5
}
