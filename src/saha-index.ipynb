{
 "cells": [
  {
   "cell_type": "code",
   "execution_count": 1,
   "id": "c209ff67-61a3-4ba5-a448-9733d7bce4c7",
   "metadata": {},
   "outputs": [],
   "source": [
    "import glob"
   ]
  },
  {
   "cell_type": "code",
   "execution_count": 2,
   "id": "99970034-e58e-4cff-a895-a8debe4d5eb8",
   "metadata": {},
   "outputs": [
    {
     "data": {
      "text/plain": [
       "2460"
      ]
     },
     "execution_count": 2,
     "metadata": {},
     "output_type": "execute_result"
    }
   ],
   "source": [
    "files = glob.glob(\"../data/data_saha_original/*/*/*.json\")\n",
    "len(files)"
   ]
  },
  {
   "cell_type": "code",
   "execution_count": 3,
   "id": "9f391c3d-5bb9-482b-a3c4-dbbde3c1d049",
   "metadata": {},
   "outputs": [],
   "source": [
    "saha_map = {\n",
    "    \"amnesty_hearings\": \"amntrans\",\n",
    "    \"human_rights_violation_hearings\": \"hrvtrans\",\n",
    "    \"special_hearings\": \"special\",\n",
    "    \"armed_forces_hearings\": \"forces\",\n",
    "    \"business_hearings\": \"business\",\n",
    "    \"capravi_hearings\": \"caprivi\",\n",
    "    \"chemical_and_biological_warfare_hearings\": \"cbw\", \n",
    "    \"children's_hearings\": \"children\",\n",
    "    \"conscription_hearings\": \"conscrip\",\n",
    "    \"faith_community_hearings\": \"faith\",\n",
    "    \"health_sector_hearings\": \"health\",\n",
    "    \"helderberg_flight_special_hearing\": \"helderberg\",\n",
    "    \"legal_hearings\": \"legal\",\n",
    "    \"mandela_united_football_club_hearings\": \"mandela\",\n",
    "    \"media_hearings\": \"media\",\n",
    "    \"mental_health_workshop\": \"mental\",\n",
    "    \"political_party\": \"udf\",\n",
    "    \"political_party_hearings\": \"party1\",\n",
    "    \"political_party_recalls\": \"party2\",\n",
    "    \"prison_hearings\": \"prison\",\n",
    "    \"state_security_council_hearings\": \"security\",\n",
    "    \"trojan_horse_hearings\": \"trojan\",\n",
    "    \"women's_hearings\": \"women\",\n",
    "    \n",
    "}"
   ]
  },
  {
   "cell_type": "code",
   "execution_count": 19,
   "id": "41a5f9e5-7dbc-410f-a690-662182da575d",
   "metadata": {},
   "outputs": [
    {
     "name": "stdout",
     "output_type": "stream",
     "text": [
      "../data/data_saha_original\\amnesty_hearings\\aliwal_north\\54583.json\n",
      "https://sabctrc.saha.org.za/documents/amntrans\\aliwal_north\\54583.htm\n"
     ]
    }
   ],
   "source": [
    "for file in files[:1]:\n",
    "    root = \"https://sabctrc.saha.org.za/documents/\"\n",
    "    print(file)\n",
    "    new_file = root+file.split(\"data_saha_original\\\\\")[-1].replace(\".json\", \".htm\")\n",
    "    for item in saha_map:\n",
    "        new_file = new_file.replace(item, saha_map[item])\n",
    "    print(new_file)"
   ]
  },
  {
   "cell_type": "code",
   "execution_count": null,
   "id": "71c8c52a-1c8d-45a1-9930-86046bed1a15",
   "metadata": {},
   "outputs": [],
   "source": []
  }
 ],
 "metadata": {
  "kernelspec": {
   "display_name": "Python 3 (ipykernel)",
   "language": "python",
   "name": "python3"
  },
  "language_info": {
   "codemirror_mode": {
    "name": "ipython",
    "version": 3
   },
   "file_extension": ".py",
   "mimetype": "text/x-python",
   "name": "python",
   "nbconvert_exporter": "python",
   "pygments_lexer": "ipython3",
   "version": "3.8.5"
  }
 },
 "nbformat": 4,
 "nbformat_minor": 5
}
