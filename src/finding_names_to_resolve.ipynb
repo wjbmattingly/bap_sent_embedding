{
 "cells": [
  {
   "cell_type": "code",
   "execution_count": 13,
   "id": "13be8bc9-1ade-49a8-a44b-5f43e34aa374",
   "metadata": {},
   "outputs": [],
   "source": [
    "import json\n",
    "import glob\n",
    "from collections import Counter"
   ]
  },
  {
   "cell_type": "code",
   "execution_count": 22,
   "id": "7a71e448-da31-46e9-bd78-253698d3de2d",
   "metadata": {},
   "outputs": [
    {
     "name": "stdout",
     "output_type": "stream",
     "text": [
      "2460\n"
     ]
    }
   ],
   "source": [
    "files = glob.glob(f\"../data/data_saha/*/*/*.json\")\n",
    "print (len(files))"
   ]
  },
  {
   "cell_type": "code",
   "execution_count": 23,
   "id": "f40c10e2-cf42-491b-83f9-51406e13d232",
   "metadata": {},
   "outputs": [],
   "source": [
    "speakers = {}\n",
    "for filename in files:\n",
    "    with open (filename, \"r\") as f:\n",
    "        data = json.load(f)\n",
    "    tmp = data[\"header\"][\"speakers\"]\n",
    "    for t in tmp:\n",
    "        if t in speakers.keys():\n",
    "            if filename not in speakers[t]:\n",
    "                speakers[t].append(filename)\n",
    "        else:\n",
    "            speakers[t] = [filename]\n",
    "# speakers = list(set(speakers))\n",
    "# speakers.sort()"
   ]
  },
  {
   "cell_type": "code",
   "execution_count": 24,
   "id": "d613ef19-b1e9-4c30-aaf6-ba54c74d3c8a",
   "metadata": {},
   "outputs": [
    {
     "data": {
      "text/plain": [
       "5064"
      ]
     },
     "execution_count": 24,
     "metadata": {},
     "output_type": "execute_result"
    }
   ],
   "source": [
    "len(speakers)"
   ]
  },
  {
   "cell_type": "code",
   "execution_count": 25,
   "id": "3dae11ac-03c7-46f9-abf2-8a778db9efcf",
   "metadata": {},
   "outputs": [],
   "source": [
    "with open (\"../data/all_speakers.json\", \"w\") as f:\n",
    "    json.dump(speakers, f, indent=4)"
   ]
  },
  {
   "cell_type": "code",
   "execution_count": 6,
   "id": "cb5ed5a9-c3f1-48cc-ba23-7e80fe44e261",
   "metadata": {},
   "outputs": [],
   "source": [
    "connected = {}\n",
    "lastnames = []\n",
    "false_pos = []\n",
    "for s in speakers:\n",
    "    if len(s.split()) > 1 and len(s.split()) < 5:\n",
    "        item = s\n",
    "        if \" AT \" not in item and \" BY \" not in item and \"REPLY\" not in item and \"ADDRESSES\" not in item and \"ARGUMENT\" not in item and \"REEXAMINATION\" not in item:\n",
    "            last = s.split()[-1]\n",
    "            if len(last) > 2:\n",
    "                lastnames.append(last)\n",
    "    if len(s.split()) > 4:\n",
    "        false_pos.append(s)\n",
    "potential = Counter(lastnames)\n",
    "connected = {}\n",
    "connected_more = {}\n",
    "for p in potential:\n",
    "    name = potential[p]\n",
    "    if name == 2:\n",
    "        for s in speakers:\n",
    "            while \"  \" in s:\n",
    "                s = s.replace(\"  \", \" \")\n",
    "            s = s.replace(\"NO FURTHER QUESTIONS BY \", \"\").replace(\"NO FURTHER CROSSEXAMINATION BY \", \"\").replace(\"EXAMINAION BY \", \"\").replace(\"CROSS EXAMINATION \", \"\").replace(\"NO QUESTIONS BY \", \"\").replace(\"QUESTIONS BY \", \"\")\n",
    "            s = s.replace(\"NO CROSSEXAMINATION BY \", \"\").replace(\"CROSSEXAMINATION BY \", \"\").replace(\"FURTHER CROSSEXAMINATION \", \"\").replace(\"CROSSEXAMINATION \", \"\").replace(\"NO EXAMINATION BY \", \"\")\n",
    "            s = s.replace(\"NO REEXAMINATION BY \", \"\").replace(\"REEXAMINATION BY \", \"\")\n",
    "            if len(s.split()) > 0:\n",
    "                if p == s.split()[-1]:\n",
    "                    # item = s\n",
    "                    # if \" BY \" not in item and \"REPLY\" not in item and \"ADDRESSES\" not in item and \"ARGUMENT\" not in item and \"REEXAMINATION\" not in item\n",
    "                    if p in connected:\n",
    "                        if s not in connected[p]:\n",
    "                            connected[p].append(s)\n",
    "                    else:\n",
    "                        connected[p] = [s]\n",
    "    elif name > 2:\n",
    "        for s in speakers:\n",
    "            while \"  \" in s:\n",
    "                s = s.replace(\"  \", \" \")\n",
    "            s = s.replace(\"NO FURTHER QUESTIONS BY \", \"\").replace(\"NO FURTHER CROSSEXAMINATION BY \", \"\").replace(\"EXAMINAION BY \", \"\").replace(\"CROSS EXAMINATION \", \"\").replace(\"NO QUESTIONS BY \", \"\").replace(\"QUESTIONS BY \", \"\")\n",
    "            s = s.replace(\"NO CROSSEXAMINATION BY \", \"\").replace(\"CROSSEXAMINATION BY \", \"\").replace(\"FURTHER CROSSEXAMINATION \", \"\").replace(\"CROSSEXAMINATION \", \"\").replace(\"NO EXAMINATION BY \", \"\")\n",
    "            s = s.replace(\"NO REEXAMINATION BY \", \"\").replace(\"REEXAMINATION BY \", \"\")\n",
    "            if len(s.split()) > 0:\n",
    "                if p == s.split()[-1]:\n",
    "                \n",
    "                    if p in connected_more:\n",
    "                        if s not in connected_more[p]:\n",
    "                            connected_more[p].append(s)\n",
    "               \n",
    "                    else:\n",
    "                        connected_more[p] = [s]\n",
    "\n",
    "# for c in connected:\n",
    "#     longest = \"\"\n",
    "#     for item in connected[c]:\n",
    "#         if len(item) > len(longest) and \" BY \" not in item and \"REPLY\" not in item and \"ADDRESSES\" not in item and \"ARGUMENT\" not in item and \"REEXAMINATION\" not in item:\n",
    "#             if item.split()[-1] == c:\n",
    "#                 longest = item\n",
    "#     connected[c] = longest"
   ]
  },
  {
   "cell_type": "code",
   "execution_count": 7,
   "id": "193ff29b-f4c0-4acd-abdb-3fba236cb02b",
   "metadata": {},
   "outputs": [
    {
     "name": "stdout",
     "output_type": "stream",
     "text": [
      "294 333\n"
     ]
    }
   ],
   "source": [
    "print (len(connected), len(connected_more))"
   ]
  },
  {
   "cell_type": "code",
   "execution_count": 8,
   "id": "5b97c2a3-ed8f-4b6b-9dc1-fd490dfea29e",
   "metadata": {},
   "outputs": [],
   "source": [
    "all_data = {'LastName': [], 'Variants': []}\n",
    "for c in connected_more:\n",
    "    all_data['LastName'].append(c)\n",
    "    all_data['Variants'].append(connected_more[c])"
   ]
  },
  {
   "cell_type": "code",
   "execution_count": 10,
   "id": "54c11962-ae24-45d8-ba87-6ea3c202055e",
   "metadata": {},
   "outputs": [],
   "source": [
    "import pandas as pd"
   ]
  },
  {
   "cell_type": "code",
   "execution_count": 11,
   "id": "549a903e-a9ad-482f-853d-096e08d346ba",
   "metadata": {},
   "outputs": [],
   "source": [
    "df = pd.DataFrame(all_data)"
   ]
  },
  {
   "cell_type": "code",
   "execution_count": 12,
   "id": "35a4d32f-1474-44de-b04f-d78f1ee47406",
   "metadata": {},
   "outputs": [
    {
     "data": {
      "text/html": [
       "<div>\n",
       "<style scoped>\n",
       "    .dataframe tbody tr th:only-of-type {\n",
       "        vertical-align: middle;\n",
       "    }\n",
       "\n",
       "    .dataframe tbody tr th {\n",
       "        vertical-align: top;\n",
       "    }\n",
       "\n",
       "    .dataframe thead th {\n",
       "        text-align: right;\n",
       "    }\n",
       "</style>\n",
       "<table border=\"1\" class=\"dataframe\">\n",
       "  <thead>\n",
       "    <tr style=\"text-align: right;\">\n",
       "      <th></th>\n",
       "      <th>LastName</th>\n",
       "      <th>Variants</th>\n",
       "    </tr>\n",
       "  </thead>\n",
       "  <tbody>\n",
       "    <tr>\n",
       "      <th>0</th>\n",
       "      <td>SANDI</td>\n",
       "      <td>[ADV SANDI, MR SANDI, MRS SANDI, MS SANDI, N S...</td>\n",
       "    </tr>\n",
       "    <tr>\n",
       "      <th>1</th>\n",
       "      <td>MTHEMBU</td>\n",
       "      <td>[MR MTHEMBU, ADV MTHEMBU, PETROS VUSUMUZI MTHE...</td>\n",
       "    </tr>\n",
       "    <tr>\n",
       "      <th>2</th>\n",
       "      <td>TSEMANE</td>\n",
       "      <td>[MR D TSEMANE, MR L TSEMANE, MR TSEMANE, MS TS...</td>\n",
       "    </tr>\n",
       "    <tr>\n",
       "      <th>3</th>\n",
       "      <td>MOTATA</td>\n",
       "      <td>[ADV MOTATA, MR MOTATA, JUDGE MOTATA]</td>\n",
       "    </tr>\n",
       "    <tr>\n",
       "      <th>4</th>\n",
       "      <td>NDLOVU</td>\n",
       "      <td>[ALFAS MABORE NDLOVU, MR NDLOVU, MRS NDLOVU, M...</td>\n",
       "    </tr>\n",
       "    <tr>\n",
       "      <th>...</th>\n",
       "      <td>...</td>\n",
       "      <td>...</td>\n",
       "    </tr>\n",
       "    <tr>\n",
       "      <th>328</th>\n",
       "      <td>GOOSEN</td>\n",
       "      <td>[MR GOOSEN, DR GOOSEN, ADRIAAN JACOBUS GOOSEN]</td>\n",
       "    </tr>\n",
       "    <tr>\n",
       "      <th>329</th>\n",
       "      <td>KNOBEL</td>\n",
       "      <td>[DANIEL PETER KNOBEL, COUNSEL FOR KNOBEL, DR K...</td>\n",
       "    </tr>\n",
       "    <tr>\n",
       "      <th>330</th>\n",
       "      <td>NIENABER</td>\n",
       "      <td>[MR COETZEE MR NIENABER, MR NIENABER, SAREL PE...</td>\n",
       "    </tr>\n",
       "    <tr>\n",
       "      <th>331</th>\n",
       "      <td>CHILI</td>\n",
       "      <td>[MD D CHILI, MR D CHILI, MR S CHILI, MRS B CHI...</td>\n",
       "    </tr>\n",
       "    <tr>\n",
       "      <th>332</th>\n",
       "      <td>RYKLIEF</td>\n",
       "      <td>[ISMAIL RYKLIEF, MR I RYKLIEF, MR RYKLIEF, MR ...</td>\n",
       "    </tr>\n",
       "  </tbody>\n",
       "</table>\n",
       "<p>333 rows × 2 columns</p>\n",
       "</div>"
      ],
      "text/plain": [
       "     LastName                                           Variants\n",
       "0       SANDI  [ADV SANDI, MR SANDI, MRS SANDI, MS SANDI, N S...\n",
       "1     MTHEMBU  [MR MTHEMBU, ADV MTHEMBU, PETROS VUSUMUZI MTHE...\n",
       "2     TSEMANE  [MR D TSEMANE, MR L TSEMANE, MR TSEMANE, MS TS...\n",
       "3      MOTATA              [ADV MOTATA, MR MOTATA, JUDGE MOTATA]\n",
       "4      NDLOVU  [ALFAS MABORE NDLOVU, MR NDLOVU, MRS NDLOVU, M...\n",
       "..        ...                                                ...\n",
       "328    GOOSEN     [MR GOOSEN, DR GOOSEN, ADRIAAN JACOBUS GOOSEN]\n",
       "329    KNOBEL  [DANIEL PETER KNOBEL, COUNSEL FOR KNOBEL, DR K...\n",
       "330  NIENABER  [MR COETZEE MR NIENABER, MR NIENABER, SAREL PE...\n",
       "331     CHILI  [MD D CHILI, MR D CHILI, MR S CHILI, MRS B CHI...\n",
       "332   RYKLIEF  [ISMAIL RYKLIEF, MR I RYKLIEF, MR RYKLIEF, MR ...\n",
       "\n",
       "[333 rows x 2 columns]"
      ]
     },
     "execution_count": 12,
     "metadata": {},
     "output_type": "execute_result"
    }
   ],
   "source": [
    "df"
   ]
  },
  {
   "cell_type": "code",
   "execution_count": 22,
   "id": "b6945fbf-876f-48a4-a29b-bc35409f333f",
   "metadata": {},
   "outputs": [],
   "source": [
    "df.to_csv('../data/manual_validation_lastnames.csv', index=False)"
   ]
  },
  {
   "cell_type": "code",
   "execution_count": null,
   "id": "e0255a90-156c-4d50-b959-c29f835dcf63",
   "metadata": {},
   "outputs": [],
   "source": []
  }
 ],
 "metadata": {
  "kernelspec": {
   "display_name": "Python 3 (ipykernel)",
   "language": "python",
   "name": "python3"
  },
  "language_info": {
   "codemirror_mode": {
    "name": "ipython",
    "version": 3
   },
   "file_extension": ".py",
   "mimetype": "text/x-python",
   "name": "python",
   "nbconvert_exporter": "python",
   "pygments_lexer": "ipython3",
   "version": "3.8.5"
  }
 },
 "nbformat": 4,
 "nbformat_minor": 5
}
