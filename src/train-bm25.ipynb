{
 "cells": [
  {
   "cell_type": "code",
   "execution_count": 1,
   "id": "13be8bc9-1ade-49a8-a44b-5f43e34aa374",
   "metadata": {},
   "outputs": [],
   "source": [
    "import json\n",
    "import glob\n",
    "from top2vec import Top2Vec"
   ]
  },
  {
   "cell_type": "code",
   "execution_count": 2,
   "id": "7a71e448-da31-46e9-bd78-253698d3de2d",
   "metadata": {},
   "outputs": [
    {
     "name": "stdout",
     "output_type": "stream",
     "text": [
      "2370\n"
     ]
    }
   ],
   "source": [
    "files = glob.glob(f\"../data/data_saha/*/*/*.json\")\n",
    "print (len(files))"
   ]
  },
  {
   "cell_type": "code",
   "execution_count": 24,
   "id": "f40c10e2-cf42-491b-83f9-51406e13d232",
   "metadata": {},
   "outputs": [
    {
     "name": "stdout",
     "output_type": "stream",
     "text": [
      "503699\n",
      "../data/data_saha\\human_rights_violation_hearings\\alexandra\\54905.json\n",
      "Good morning Mr and Mrs Bapela. We are pleased to have you.  Today is also one of those difficult days in Alexandra when people will be reminded of the time in the eighties when the community decided to get rid of inappropriate leaders and that led to civil conflict between the police and community leaders who were trying to set up alternative structures to provide leadership within the community and we hope people will be coming before us who will assist not only us but the community of Alexandra as well to get a clear picture of where you are coming from.  Before you give your testimony as it is the tradition I would like you to stand up so as to take an oath before this Commission.\n",
      "0\n"
     ]
    }
   ],
   "source": [
    "documents = []\n",
    "segments = {}\n",
    "x=0\n",
    "for filename in files:\n",
    "\n",
    "    with open(filename, \"r\") as f:\n",
    "        data = json.load(f)\n",
    "    testimony = data[\"testimony\"]\n",
    "    # segments[\"files\"].append(filename)\n",
    "    for i, segment in enumerate(testimony):\n",
    "        speaker, dialogue, gender = segment\n",
    "        if \" Today is also one of those difficult days\" in dialogue:\n",
    "            print (x)\n",
    "            print (filename)\n",
    "            print (dialogue)\n",
    "        segments[x] = [filename, i]\n",
    "        # segments[\"segments\"].append({i})\n",
    "        # documents.append(dialogue)\n",
    "        x=x+1\n",
    "print (len(documents))"
   ]
  },
  {
   "cell_type": "code",
   "execution_count": 4,
   "id": "95c9fe44-1970-4a7b-892c-223e272c33a4",
   "metadata": {},
   "outputs": [
    {
     "data": {
      "text/plain": [
       "['May I proceed Mr Chairman?',\n",
       " 'Yes.',\n",
       " 'Mr Chairman, the matter which proceeds this morning, the 28th April 1998 is the Amnesty Application of Thabiso James Makoala, No. 6026/97 and Phila Martin Dolo, No. 3485/96.\\n\\tThe event is the Zastron Mayaphuti Bridge attack on the vehicle of a Mr Griesel and that occurred during November 1992.  May I inform the Committee that Mr Griesel was injured in that attack, not fatally, he has subsequently died, he committed suicide, Mr Chairman, if that evidence will be forthcoming - that\\'s why on the schedule before you in brackets \"deceased\" appears there.\\n\\tThe two other victims who were with Mr Griesel at the time were Mr Tladi and Mr Ndeleni have been informed.  Mr Ndeleni is present and I understand Mr Tladi had worked night shift and was unable to attend this morning and in no doubt if necessary his presence will be secured.  The victim Mr Ndeleni will rely on the services of the evidence leader, that is myself, P.C. Prior.  \\n\\tThe implicated person Mr Letlapa Mphahlele I understand is present and is informed of the proceedings and the two applicants are represented by their respective attorneys.  Thank you Mr Chairman.',\n",
       " 'Thank you.',\n",
       " \"Thank you Mr Chairman.  Mbandazayo's my name, I'm representing Phila Martin Dolo, Mr Chairman.\",\n",
       " 'Mr Chairman, Mthembu, I represent Mr Makoala.',\n",
       " 'Mr Chairman, before we proceed, may the bundle that was prepared be marked \"A\" and there was a supplementary - there was copies of photographs, that they may be marked \"B\".  Mr Chairman to some extent this is a overrun of the photographs already appearing but to avoid confusion, maybe mark that \"B\" and I understand that Mr Dolo and Mr Makoala have filed supplementary affidavits to their applications this morning.  I think Mr Dolo is going to be kicking off so could that affidavit be marked \"C\", the affidavit of Mr Dolo and the affidavit of Mr Makoalo, \"D\".  Thank you Mr Chairman.',\n",
       " 'Now gentlemen do you agree with that numbering?',\n",
       " 'Yes Mr Chairman I agree.',\n",
       " 'Correct Mr Chairman.']"
      ]
     },
     "execution_count": 4,
     "metadata": {},
     "output_type": "execute_result"
    }
   ],
   "source": [
    "documents[:10]"
   ]
  },
  {
   "cell_type": "code",
   "execution_count": 17,
   "id": "24e76a09-c68d-4f31-9b6c-81efa801c803",
   "metadata": {},
   "outputs": [],
   "source": [
    "with open(\"../data/testimony_top2vec_data.json\", \"w\") as f:\n",
    "    json.dump(segments, f, indent=4)"
   ]
  },
  {
   "cell_type": "code",
   "execution_count": 20,
   "id": "cb5ed5a9-c3f1-48cc-ba23-7e80fe44e261",
   "metadata": {},
   "outputs": [
    {
     "name": "stderr",
     "output_type": "stream",
     "text": [
      "2022-06-16 18:58:31,480 - top2vec - INFO - Pre-processing documents for training\n",
      "2022-06-16 18:59:11,451 - top2vec - INFO - Creating joint document/word embedding\n",
      "2022-06-16 18:45:38,941 - top2vec - INFO - Creating lower dimension embedding of documents\n",
      "2022-06-16 18:53:53,598 - top2vec - INFO - Finding dense areas of documents\n",
      "2022-06-16 18:54:53,760 - top2vec - INFO - Finding topics\n"
     ]
    }
   ],
   "source": [
    "# model = Top2Vec(documents, speed=\"deep-learn\")"
   ]
  },
  {
   "cell_type": "code",
   "execution_count": 21,
   "id": "81ed79de-1f14-4cc6-aa7d-e8cf1870c788",
   "metadata": {},
   "outputs": [],
   "source": [
    "# model.save(\"../data/testimony-top2vec-model\")"
   ]
  },
  {
   "cell_type": "code",
   "execution_count": null,
   "id": "52632e9b-2e6f-420e-a8a8-910e8f0f10ef",
   "metadata": {},
   "outputs": [],
   "source": []
  }
 ],
 "metadata": {
  "kernelspec": {
   "display_name": "Python 3 (ipykernel)",
   "language": "python",
   "name": "python3"
  },
  "language_info": {
   "codemirror_mode": {
    "name": "ipython",
    "version": 3
   },
   "file_extension": ".py",
   "mimetype": "text/x-python",
   "name": "python",
   "nbconvert_exporter": "python",
   "pygments_lexer": "ipython3",
   "version": "3.8.5"
  }
 },
 "nbformat": 4,
 "nbformat_minor": 5
}
