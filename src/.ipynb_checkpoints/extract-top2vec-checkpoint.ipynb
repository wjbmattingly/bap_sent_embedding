{
 "cells": [
  {
   "cell_type": "code",
   "execution_count": 21,
   "id": "57f5904f-6b2e-40a6-997a-fb07eb6a6fc7",
   "metadata": {},
   "outputs": [],
   "source": [
    "from top2vec import Top2Vec\n",
    "import json"
   ]
  },
  {
   "cell_type": "code",
   "execution_count": 36,
   "id": "3557f39c-ecc0-4761-b5cb-c97af0c76de8",
   "metadata": {},
   "outputs": [],
   "source": [
    "model = Top2Vec.load(\"../data/testimony-top2vec-model\")"
   ]
  },
  {
   "cell_type": "code",
   "execution_count": 37,
   "id": "c6caf2e6-0c50-4e11-a27e-be19f3458d63",
   "metadata": {},
   "outputs": [
    {
     "data": {
      "text/plain": [
       "6490"
      ]
     },
     "execution_count": 37,
     "metadata": {},
     "output_type": "execute_result"
    }
   ],
   "source": [
    "model.get_num_topics()"
   ]
  },
  {
   "cell_type": "code",
   "execution_count": 25,
   "id": "cdebfa60-f73e-4433-af59-6f684f3d36a1",
   "metadata": {},
   "outputs": [],
   "source": [
    "with open(\"../data/vol7.json\", \"r\", encoding=\"utf-8\") as f:\n",
    "    names = json.load(f)[\"names\"]"
   ]
  },
  {
   "cell_type": "code",
   "execution_count": 16,
   "id": "9be2b0eb-e501-4701-bc78-c138d970a633",
   "metadata": {},
   "outputs": [],
   "source": [
    "topic_sizes, topic_nums = model.get_topic_sizes()"
   ]
  },
  {
   "cell_type": "code",
   "execution_count": null,
   "id": "ec84b31c-9a95-4c7c-9763-83fb55d9df6e",
   "metadata": {},
   "outputs": [],
   "source": [
    "topic_words, word_scores, topic_nums = model.get_topics(77)"
   ]
  },
  {
   "cell_type": "code",
   "execution_count": 26,
   "id": "5101f216-a2ca-4a30-a6eb-ee66bbaf701b",
   "metadata": {},
   "outputs": [],
   "source": [
    "# all_docs = []\n",
    "# for i in range(model.get_num_topics()):\n",
    "#     docs = []\n",
    "#     documents, document_scores, document_ids = model.search_documents_by_topic(topic_num=i, num_docs=topic_sizes[i])\n",
    "#     for doc, score, doc_id in zip(documents, document_scores, document_ids):\n",
    "#         docs.append(f\"Document: {doc_id} ({names[doc_id]}), Score: {score}\\n{doc.strip()}\\n\")\n",
    "#     docs = \"\\n\".join(docs)\n",
    "#     docs = f\"# TOPIC {i:03}\\n\"+docs\n",
    "#     all_docs.append(docs)\n",
    "# all_docs = \"\\n\\n\".join(all_docs)"
   ]
  },
  {
   "cell_type": "code",
   "execution_count": 28,
   "id": "e8888b9e-0a49-4e27-92b3-9bb9620881bb",
   "metadata": {},
   "outputs": [],
   "source": [
    "# with open(\"../data/vol7.md\", \"w\", encoding=\"utf-8\") as f:\n",
    "#     f.write(all_docs)"
   ]
  },
  {
   "cell_type": "code",
   "execution_count": 38,
   "id": "862b7d53-104c-480e-a7a3-d273ce1007ae",
   "metadata": {},
   "outputs": [],
   "source": [
    "all_docs = []\n",
    "\n",
    "topic_words, word_scores, topic_nums = model.get_topics()\n",
    "i=0\n",
    "for words, scores, topic in zip(topic_words, word_scores, topic_nums):\n",
    "    all_docs.append(f\"# TOPIC {i:03}\\n({', '.join(words)})\\n\")\n",
    "    i=i+1\n",
    "all_docs = \"\\n\\n\".join(all_docs)"
   ]
  },
  {
   "cell_type": "code",
   "execution_count": 39,
   "id": "14006518-be5d-4776-ae43-4771f5170984",
   "metadata": {},
   "outputs": [],
   "source": [
    "with open(\"../data/testimony_words.md\", \"w\", encoding=\"utf-8\") as f:\n",
    "    f.write(all_docs)"
   ]
  },
  {
   "cell_type": "code",
   "execution_count": null,
   "id": "e4a071e7-599f-4982-92a8-19a19ea6dfb9",
   "metadata": {},
   "outputs": [],
   "source": []
  }
 ],
 "metadata": {
  "kernelspec": {
   "display_name": "Python 3 (ipykernel)",
   "language": "python",
   "name": "python3"
  },
  "language_info": {
   "codemirror_mode": {
    "name": "ipython",
    "version": 3
   },
   "file_extension": ".py",
   "mimetype": "text/x-python",
   "name": "python",
   "nbconvert_exporter": "python",
   "pygments_lexer": "ipython3",
   "version": "3.8.5"
  }
 },
 "nbformat": 4,
 "nbformat_minor": 5
}
