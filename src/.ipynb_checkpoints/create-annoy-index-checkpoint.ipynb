{
 "cells": [
  {
   "cell_type": "code",
   "execution_count": 44,
   "id": "11835449-2abe-4b99-b1e8-dec60893cf1a",
   "metadata": {},
   "outputs": [],
   "source": [
    "from sentence_transformers import SentenceTransformer\n",
    "from annoy import AnnoyIndex\n",
    "import pandas as pd\n",
    "import numpy as np"
   ]
  },
  {
   "cell_type": "code",
   "execution_count": 6,
   "id": "8b150deb-979e-42dd-a0ce-a66b614c93c3",
   "metadata": {},
   "outputs": [
    {
     "data": {
      "text/html": [
       "<div>\n",
       "<style scoped>\n",
       "    .dataframe tbody tr th:only-of-type {\n",
       "        vertical-align: middle;\n",
       "    }\n",
       "\n",
       "    .dataframe tbody tr th {\n",
       "        vertical-align: top;\n",
       "    }\n",
       "\n",
       "    .dataframe thead th {\n",
       "        text-align: right;\n",
       "    }\n",
       "</style>\n",
       "<table border=\"1\" class=\"dataframe\">\n",
       "  <thead>\n",
       "    <tr style=\"text-align: right;\">\n",
       "      <th></th>\n",
       "      <th>speaker</th>\n",
       "      <th>dialogue</th>\n",
       "      <th>file</th>\n",
       "      <th>file_index</th>\n",
       "      <th>saha_page</th>\n",
       "    </tr>\n",
       "  </thead>\n",
       "  <tbody>\n",
       "    <tr>\n",
       "      <th>0</th>\n",
       "      <td>MR PRIOR</td>\n",
       "      <td>May I proceed Mr Chairman?</td>\n",
       "      <td>../data/data_saha\\amnesty_hearings\\aliwal_nort...</td>\n",
       "      <td>0</td>\n",
       "      <td>https://sabctrc.saha.org.za/documents/amntrans...</td>\n",
       "    </tr>\n",
       "    <tr>\n",
       "      <th>1</th>\n",
       "      <td>CHAIRPERSON</td>\n",
       "      <td>Yes.</td>\n",
       "      <td>../data/data_saha\\amnesty_hearings\\aliwal_nort...</td>\n",
       "      <td>1</td>\n",
       "      <td>https://sabctrc.saha.org.za/documents/amntrans...</td>\n",
       "    </tr>\n",
       "    <tr>\n",
       "      <th>2</th>\n",
       "      <td>MR PRIOR</td>\n",
       "      <td>Mr Chairman, the matter which proceeds this mo...</td>\n",
       "      <td>../data/data_saha\\amnesty_hearings\\aliwal_nort...</td>\n",
       "      <td>2</td>\n",
       "      <td>https://sabctrc.saha.org.za/documents/amntrans...</td>\n",
       "    </tr>\n",
       "    <tr>\n",
       "      <th>3</th>\n",
       "      <td>CHAIRPERSON</td>\n",
       "      <td>Thank you.</td>\n",
       "      <td>../data/data_saha\\amnesty_hearings\\aliwal_nort...</td>\n",
       "      <td>3</td>\n",
       "      <td>https://sabctrc.saha.org.za/documents/amntrans...</td>\n",
       "    </tr>\n",
       "    <tr>\n",
       "      <th>4</th>\n",
       "      <td>MR MBANDAZAYO</td>\n",
       "      <td>Thank you Mr Chairman.  Mbandazayo's my name, ...</td>\n",
       "      <td>../data/data_saha\\amnesty_hearings\\aliwal_nort...</td>\n",
       "      <td>4</td>\n",
       "      <td>https://sabctrc.saha.org.za/documents/amntrans...</td>\n",
       "    </tr>\n",
       "    <tr>\n",
       "      <th>...</th>\n",
       "      <td>...</td>\n",
       "      <td>...</td>\n",
       "      <td>...</td>\n",
       "      <td>...</td>\n",
       "      <td>...</td>\n",
       "    </tr>\n",
       "    <tr>\n",
       "      <th>675935</th>\n",
       "      <td>CHAIRPERSON</td>\n",
       "      <td>Joyce Seroke.</td>\n",
       "      <td>../data/data_saha\\special_hearings\\women's_hea...</td>\n",
       "      <td>36</td>\n",
       "      <td>https://sabctrc.saha.org.za/documents/special\\...</td>\n",
       "    </tr>\n",
       "    <tr>\n",
       "      <th>675936</th>\n",
       "      <td>MS SEROKE</td>\n",
       "      <td>Mrs Thobela, this is a painful story that you ...</td>\n",
       "      <td>../data/data_saha\\special_hearings\\women's_hea...</td>\n",
       "      <td>37</td>\n",
       "      <td>https://sabctrc.saha.org.za/documents/special\\...</td>\n",
       "    </tr>\n",
       "    <tr>\n",
       "      <th>675937</th>\n",
       "      <td>LEPHINA ZODWA THOBELA</td>\n",
       "      <td>No, I have had peace and quiet and after the r...</td>\n",
       "      <td>../data/data_saha\\special_hearings\\women's_hea...</td>\n",
       "      <td>38</td>\n",
       "      <td>https://sabctrc.saha.org.za/documents/special\\...</td>\n",
       "    </tr>\n",
       "    <tr>\n",
       "      <th>675938</th>\n",
       "      <td>MS SEROKE</td>\n",
       "      <td>We thank you very much for having come forward...</td>\n",
       "      <td>../data/data_saha\\special_hearings\\women's_hea...</td>\n",
       "      <td>39</td>\n",
       "      <td>https://sabctrc.saha.org.za/documents/special\\...</td>\n",
       "    </tr>\n",
       "    <tr>\n",
       "      <th>675939</th>\n",
       "      <td>CHAIRPERSON</td>\n",
       "      <td>We thank you very much for having come before ...</td>\n",
       "      <td>../data/data_saha\\special_hearings\\women's_hea...</td>\n",
       "      <td>40</td>\n",
       "      <td>https://sabctrc.saha.org.za/documents/special\\...</td>\n",
       "    </tr>\n",
       "  </tbody>\n",
       "</table>\n",
       "<p>675940 rows × 5 columns</p>\n",
       "</div>"
      ],
      "text/plain": [
       "                      speaker  \\\n",
       "0                    MR PRIOR   \n",
       "1                 CHAIRPERSON   \n",
       "2                    MR PRIOR   \n",
       "3                 CHAIRPERSON   \n",
       "4               MR MBANDAZAYO   \n",
       "...                       ...   \n",
       "675935            CHAIRPERSON   \n",
       "675936              MS SEROKE   \n",
       "675937  LEPHINA ZODWA THOBELA   \n",
       "675938              MS SEROKE   \n",
       "675939            CHAIRPERSON   \n",
       "\n",
       "                                                 dialogue  \\\n",
       "0                              May I proceed Mr Chairman?   \n",
       "1                                                    Yes.   \n",
       "2       Mr Chairman, the matter which proceeds this mo...   \n",
       "3                                              Thank you.   \n",
       "4       Thank you Mr Chairman.  Mbandazayo's my name, ...   \n",
       "...                                                   ...   \n",
       "675935                                      Joyce Seroke.   \n",
       "675936  Mrs Thobela, this is a painful story that you ...   \n",
       "675937  No, I have had peace and quiet and after the r...   \n",
       "675938  We thank you very much for having come forward...   \n",
       "675939  We thank you very much for having come before ...   \n",
       "\n",
       "                                                     file  file_index  \\\n",
       "0       ../data/data_saha\\amnesty_hearings\\aliwal_nort...           0   \n",
       "1       ../data/data_saha\\amnesty_hearings\\aliwal_nort...           1   \n",
       "2       ../data/data_saha\\amnesty_hearings\\aliwal_nort...           2   \n",
       "3       ../data/data_saha\\amnesty_hearings\\aliwal_nort...           3   \n",
       "4       ../data/data_saha\\amnesty_hearings\\aliwal_nort...           4   \n",
       "...                                                   ...         ...   \n",
       "675935  ../data/data_saha\\special_hearings\\women's_hea...          36   \n",
       "675936  ../data/data_saha\\special_hearings\\women's_hea...          37   \n",
       "675937  ../data/data_saha\\special_hearings\\women's_hea...          38   \n",
       "675938  ../data/data_saha\\special_hearings\\women's_hea...          39   \n",
       "675939  ../data/data_saha\\special_hearings\\women's_hea...          40   \n",
       "\n",
       "                                                saha_page  \n",
       "0       https://sabctrc.saha.org.za/documents/amntrans...  \n",
       "1       https://sabctrc.saha.org.za/documents/amntrans...  \n",
       "2       https://sabctrc.saha.org.za/documents/amntrans...  \n",
       "3       https://sabctrc.saha.org.za/documents/amntrans...  \n",
       "4       https://sabctrc.saha.org.za/documents/amntrans...  \n",
       "...                                                   ...  \n",
       "675935  https://sabctrc.saha.org.za/documents/special\\...  \n",
       "675936  https://sabctrc.saha.org.za/documents/special\\...  \n",
       "675937  https://sabctrc.saha.org.za/documents/special\\...  \n",
       "675938  https://sabctrc.saha.org.za/documents/special\\...  \n",
       "675939  https://sabctrc.saha.org.za/documents/special\\...  \n",
       "\n",
       "[675940 rows x 5 columns]"
      ]
     },
     "execution_count": 6,
     "metadata": {},
     "output_type": "execute_result"
    }
   ],
   "source": [
    "df = pd.read_csv(\"../data/speaker_dialogue.csv\")\n",
    "df"
   ]
  },
  {
   "cell_type": "code",
   "execution_count": 23,
   "id": "a244bc8f-d7d2-4457-bcba-fb3296392715",
   "metadata": {},
   "outputs": [
    {
     "data": {
      "text/plain": [
       "speaker       object\n",
       "dialogue      object\n",
       "file          object\n",
       "file_index     int64\n",
       "saha_page     object\n",
       "dtype: object"
      ]
     },
     "execution_count": 23,
     "metadata": {},
     "output_type": "execute_result"
    }
   ],
   "source": [
    "df.dtypes"
   ]
  },
  {
   "cell_type": "code",
   "execution_count": 28,
   "id": "18673db7-63f7-425f-a7bd-472b36c73a5c",
   "metadata": {},
   "outputs": [],
   "source": [
    "df.dialogue = df.dialogue.apply(str)"
   ]
  },
  {
   "cell_type": "code",
   "execution_count": 29,
   "id": "9e178d11-8688-4b3a-b0e6-37cd5f7a3b1b",
   "metadata": {},
   "outputs": [
    {
     "data": {
      "text/plain": [
       "speaker       object\n",
       "dialogue      object\n",
       "file          object\n",
       "file_index     int64\n",
       "saha_page     object\n",
       "dtype: object"
      ]
     },
     "execution_count": 29,
     "metadata": {},
     "output_type": "execute_result"
    }
   ],
   "source": [
    "df.dtypes"
   ]
  },
  {
   "cell_type": "code",
   "execution_count": 7,
   "id": "b3e5bfde-6aee-4bb3-9948-90a02b992b6c",
   "metadata": {},
   "outputs": [],
   "source": [
    "model = SentenceTransformer('all-MiniLM-L6-v2')"
   ]
  },
  {
   "cell_type": "code",
   "execution_count": 30,
   "id": "da36bdad-3661-416e-a9ff-ae522cda8351",
   "metadata": {},
   "outputs": [],
   "source": [
    "doc_embeddings =  model.encode(df[\"dialogue\"])"
   ]
  },
  {
   "cell_type": "code",
   "execution_count": null,
   "id": "a2387c5b-f3ea-4ba8-ab00-a4efdec988cb",
   "metadata": {},
   "outputs": [],
   "source": [
    "umap_proj = UMAP(n_neighbors=10,\n",
    "                          min_dist=0.01,\n",
    "                          metric='correlation').fit_transform(doc_embeddings)"
   ]
  },
  {
   "cell_type": "code",
   "execution_count": null,
   "id": "f27ae70a-3a6c-4762-a271-5ddf37a1456e",
   "metadata": {},
   "outputs": [],
   "source": [
    "hdbscan_labels = hdbscan.HDBSCAN(min_samples=15, min_cluster_size=15).fit_predict(umap_proj)\n",
    "print(len(set(hdbscan_labels)))"
   ]
  },
  {
   "cell_type": "code",
   "execution_count": null,
   "id": "5f0d18a5-f8b8-4988-88a2-36bcd3775f3b",
   "metadata": {},
   "outputs": [],
   "source": [
    "# Apply coordinates\n",
    "df[\"x\"] = umap_proj[:, 0]\n",
    "df[\"y\"] = umap_proj[:, 1]\n",
    "df[\"topic\"] = hdbscan_labels\n",
    "df.head(1)"
   ]
  },
  {
   "cell_type": "code",
   "execution_count": 31,
   "id": "bbe75a41-ed30-4493-b0a1-7c8a386a58c2",
   "metadata": {},
   "outputs": [
    {
     "data": {
      "text/plain": [
       "(675940, 384)"
      ]
     },
     "execution_count": 31,
     "metadata": {},
     "output_type": "execute_result"
    }
   ],
   "source": [
    "doc_embeddings.shape"
   ]
  },
  {
   "cell_type": "code",
   "execution_count": 32,
   "id": "97116955-246a-4c3d-b7ed-4ffd4855554f",
   "metadata": {},
   "outputs": [],
   "source": [
    "annoy_index = AnnoyIndex(384, metric='angular')"
   ]
  },
  {
   "cell_type": "code",
   "execution_count": 33,
   "id": "21356797-23fe-4600-af50-aef9bf19ad7a",
   "metadata": {},
   "outputs": [
    {
     "data": {
      "text/plain": [
       "True"
      ]
     },
     "execution_count": 33,
     "metadata": {},
     "output_type": "execute_result"
    }
   ],
   "source": [
    "for idx, emb in enumerate(doc_embeddings):\n",
    "    annoy_index.add_item(idx, emb)\n",
    "annoy_index.build(10)"
   ]
  },
  {
   "cell_type": "code",
   "execution_count": 45,
   "id": "b9726249-c406-4ba2-ae49-efe8567081d5",
   "metadata": {},
   "outputs": [],
   "source": [
    "with open(f'../data/testimonies_complete.npy','wb') as np_file:\n",
    "        np.save(np_file, doc_embeddings)"
   ]
  },
  {
   "cell_type": "code",
   "execution_count": 39,
   "id": "ae89ba71-1ce5-4f01-bef6-bc040a918bc3",
   "metadata": {},
   "outputs": [
    {
     "data": {
      "text/plain": [
       "True"
      ]
     },
     "execution_count": 39,
     "metadata": {},
     "output_type": "execute_result"
    }
   ],
   "source": [
    "annoy_index.save(\"../data/testimonies_complete.ann\")"
   ]
  },
  {
   "cell_type": "code",
   "execution_count": 46,
   "id": "38664a79-2513-47a3-a4f5-6e546d2e41d5",
   "metadata": {},
   "outputs": [],
   "source": [
    "# doc_embeddings.savez(\"../data/testimonies_complete\")"
   ]
  },
  {
   "cell_type": "code",
   "execution_count": null,
   "id": "3204966f-c25d-4642-a6c4-7e99b34d16cb",
   "metadata": {},
   "outputs": [],
   "source": []
  }
 ],
 "metadata": {
  "kernelspec": {
   "display_name": "Python 3 (ipykernel)",
   "language": "python",
   "name": "python3"
  },
  "language_info": {
   "codemirror_mode": {
    "name": "ipython",
    "version": 3
   },
   "file_extension": ".py",
   "mimetype": "text/x-python",
   "name": "python",
   "nbconvert_exporter": "python",
   "pygments_lexer": "ipython3",
   "version": "3.8.5"
  }
 },
 "nbformat": 4,
 "nbformat_minor": 5
}
