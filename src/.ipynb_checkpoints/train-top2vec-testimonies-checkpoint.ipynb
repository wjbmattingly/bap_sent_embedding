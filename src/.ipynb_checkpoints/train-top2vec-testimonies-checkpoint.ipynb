{
 "cells": [
  {
   "cell_type": "code",
   "execution_count": 6,
   "id": "13be8bc9-1ade-49a8-a44b-5f43e34aa374",
   "metadata": {},
   "outputs": [],
   "source": [
    "import json\n",
    "import glob\n",
    "from top2vec import Top2Vec\n",
    "import pandas as pd"
   ]
  },
  {
   "cell_type": "code",
   "execution_count": 21,
   "id": "7a71e448-da31-46e9-bd78-253698d3de2d",
   "metadata": {},
   "outputs": [
    {
     "name": "stdout",
     "output_type": "stream",
     "text": [
      "2460\n"
     ]
    }
   ],
   "source": [
    "files = glob.glob(f\"../data/data_saha/*/*/*.json\")\n",
    "print (len(files))"
   ]
  },
  {
   "cell_type": "code",
   "execution_count": 29,
   "id": "e01573f5-7626-4d6c-8b62-2cb7e424b8b3",
   "metadata": {},
   "outputs": [],
   "source": [
    "saha_map = {\n",
    "    \"amnesty_hearings\": \"amntrans\",\n",
    "    \"human_rights_violation_hearings\": \"hrvtrans\",\n",
    "    \"special_hearings\": \"special\",\n",
    "    \"armed_forces_hearings\": \"forces\",\n",
    "    \"business_hearings\": \"business\",\n",
    "    \"capravi_hearings\": \"caprivi\",\n",
    "    \"chemical_and_biological_warfare_hearings\": \"cbw\", \n",
    "    \"children's_hearings\": \"children\",\n",
    "    \"conscription_hearings\": \"conscrip\",\n",
    "    \"faith_community_hearings\": \"faith\",\n",
    "    \"health_sector_hearings\": \"health\",\n",
    "    \"helderberg_flight_special_hearing\": \"helderberg\",\n",
    "    \"legal_hearings\": \"legal\",\n",
    "    \"mandela_united_football_club_hearings\": \"mandela\",\n",
    "    \"media_hearings\": \"media\",\n",
    "    \"mental_health_workshop\": \"mental\",\n",
    "    \"political_party\": \"udf\",\n",
    "    \"political_party_hearings\": \"party1\",\n",
    "    \"political_party_recalls\": \"party2\",\n",
    "    \"prison_hearings\": \"prison\",\n",
    "    \"state_security_council_hearings\": \"security\",\n",
    "    \"trojan_horse_hearings\": \"trojan\",\n",
    "    \"women's_hearings\": \"women\",\n",
    "    \n",
    "}"
   ]
  },
  {
   "cell_type": "code",
   "execution_count": 41,
   "id": "f40c10e2-cf42-491b-83f9-51406e13d232",
   "metadata": {},
   "outputs": [
    {
     "name": "stdout",
     "output_type": "stream",
     "text": [
      "503699\n",
      "../data/data_saha\\human_rights_violation_hearings\\alexandra\\54905.json\n",
      "Good morning Mr and Mrs Bapela. We are pleased to have you.  Today is also one of those difficult days in Alexandra when people will be reminded of the time in the eighties when the community decided to get rid of inappropriate leaders and that led to civil conflict between the police and community leaders who were trying to set up alternative structures to provide leadership within the community and we hope people will be coming before us who will assist not only us but the community of Alexandra as well to get a clear picture of where you are coming from.  Before you give your testimony as it is the tradition I would like you to stand up so as to take an oath before this Commission.\n",
      "675940\n"
     ]
    }
   ],
   "source": [
    "documents = []\n",
    "genders = []\n",
    "speakers = []\n",
    "file_names = []\n",
    "file_index = []\n",
    "saha_pages = []\n",
    "\n",
    "root = \"https://sabctrc.saha.org.za/documents/\"\n",
    "segments = {}\n",
    "x=0\n",
    "for filename in files:\n",
    "    new_file = root+filename.split(\"data_saha\\\\\")[-1].replace(\".json\", \".htm\")\n",
    "    for item in saha_map:\n",
    "        new_file = new_file.replace(item, saha_map[item])\n",
    "    new_file = new_file.replace(\"\\\\\", \"/\")\n",
    "    with open(filename, \"r\") as f:\n",
    "        data = json.load(f)\n",
    "    testimony = data[\"testimony\"]\n",
    "    # segments[\"files\"].append(filename)\n",
    "    for i, segment in enumerate(testimony):\n",
    "        speaker, dialogue, gender = segment\n",
    "        if \" Today is also one of those difficult days\" in dialogue:\n",
    "            print (x)\n",
    "            print (filename)\n",
    "            print (dialogue)\n",
    "        # segments[x] = [filename, i]\n",
    "        # segments[\"segments\"].append({i})\n",
    "        speakers.append(speaker)\n",
    "        genders.append(gender)\n",
    "        documents.append(dialogue)\n",
    "        file_names.append(filename)\n",
    "        file_index.append(i)\n",
    "        saha_pages.append(new_file)\n",
    "        x=x+1\n",
    "print (len(documents))"
   ]
  },
  {
   "cell_type": "code",
   "execution_count": 42,
   "id": "e70298da-b819-4594-bb2e-2be939893cce",
   "metadata": {},
   "outputs": [],
   "source": [
    "df = pd.DataFrame({\"speaker\": speakers, \"dialogue\": documents, \"file\": file_names, \"file_index\": file_index, \"saha_page\": saha_pages})\n",
    "df.to_csv(\"../data/speaker_dialogue.csv\", index=False)"
   ]
  },
  {
   "cell_type": "code",
   "execution_count": 43,
   "id": "e2825081-0d87-4500-993b-982c4489410c",
   "metadata": {},
   "outputs": [
    {
     "data": {
      "text/plain": [
       "'https://sabctrc.saha.org.za/documents/amntrans/aliwal_north/54583.htm'"
      ]
     },
     "execution_count": 43,
     "metadata": {},
     "output_type": "execute_result"
    }
   ],
   "source": [
    "df.iloc[0].saha_page"
   ]
  },
  {
   "cell_type": "code",
   "execution_count": 44,
   "id": "fc0635fa-0b7c-45cf-911f-326f19018d75",
   "metadata": {},
   "outputs": [
    {
     "data": {
      "text/html": [
       "<div>\n",
       "<style scoped>\n",
       "    .dataframe tbody tr th:only-of-type {\n",
       "        vertical-align: middle;\n",
       "    }\n",
       "\n",
       "    .dataframe tbody tr th {\n",
       "        vertical-align: top;\n",
       "    }\n",
       "\n",
       "    .dataframe thead th {\n",
       "        text-align: right;\n",
       "    }\n",
       "</style>\n",
       "<table border=\"1\" class=\"dataframe\">\n",
       "  <thead>\n",
       "    <tr style=\"text-align: right;\">\n",
       "      <th></th>\n",
       "      <th>speaker</th>\n",
       "      <th>dialogue</th>\n",
       "      <th>file</th>\n",
       "      <th>file_index</th>\n",
       "      <th>saha_page</th>\n",
       "    </tr>\n",
       "  </thead>\n",
       "  <tbody>\n",
       "    <tr>\n",
       "      <th>0</th>\n",
       "      <td>MR PRIOR</td>\n",
       "      <td>May I proceed Mr Chairman?</td>\n",
       "      <td>../data/data_saha\\amnesty_hearings\\aliwal_nort...</td>\n",
       "      <td>0</td>\n",
       "      <td>https://sabctrc.saha.org.za/documents/amntrans...</td>\n",
       "    </tr>\n",
       "    <tr>\n",
       "      <th>1</th>\n",
       "      <td>CHAIRPERSON</td>\n",
       "      <td>Yes.</td>\n",
       "      <td>../data/data_saha\\amnesty_hearings\\aliwal_nort...</td>\n",
       "      <td>1</td>\n",
       "      <td>https://sabctrc.saha.org.za/documents/amntrans...</td>\n",
       "    </tr>\n",
       "    <tr>\n",
       "      <th>2</th>\n",
       "      <td>MR PRIOR</td>\n",
       "      <td>Mr Chairman, the matter which proceeds this mo...</td>\n",
       "      <td>../data/data_saha\\amnesty_hearings\\aliwal_nort...</td>\n",
       "      <td>2</td>\n",
       "      <td>https://sabctrc.saha.org.za/documents/amntrans...</td>\n",
       "    </tr>\n",
       "    <tr>\n",
       "      <th>3</th>\n",
       "      <td>CHAIRPERSON</td>\n",
       "      <td>Thank you.</td>\n",
       "      <td>../data/data_saha\\amnesty_hearings\\aliwal_nort...</td>\n",
       "      <td>3</td>\n",
       "      <td>https://sabctrc.saha.org.za/documents/amntrans...</td>\n",
       "    </tr>\n",
       "    <tr>\n",
       "      <th>4</th>\n",
       "      <td>MR MBANDAZAYO</td>\n",
       "      <td>Thank you Mr Chairman.  Mbandazayo's my name, ...</td>\n",
       "      <td>../data/data_saha\\amnesty_hearings\\aliwal_nort...</td>\n",
       "      <td>4</td>\n",
       "      <td>https://sabctrc.saha.org.za/documents/amntrans...</td>\n",
       "    </tr>\n",
       "    <tr>\n",
       "      <th>...</th>\n",
       "      <td>...</td>\n",
       "      <td>...</td>\n",
       "      <td>...</td>\n",
       "      <td>...</td>\n",
       "      <td>...</td>\n",
       "    </tr>\n",
       "    <tr>\n",
       "      <th>675935</th>\n",
       "      <td>CHAIRPERSON</td>\n",
       "      <td>Joyce Seroke.</td>\n",
       "      <td>../data/data_saha\\special_hearings\\women's_hea...</td>\n",
       "      <td>36</td>\n",
       "      <td>https://sabctrc.saha.org.za/documents/special/...</td>\n",
       "    </tr>\n",
       "    <tr>\n",
       "      <th>675936</th>\n",
       "      <td>MS SEROKE</td>\n",
       "      <td>Mrs Thobela, this is a painful story that you ...</td>\n",
       "      <td>../data/data_saha\\special_hearings\\women's_hea...</td>\n",
       "      <td>37</td>\n",
       "      <td>https://sabctrc.saha.org.za/documents/special/...</td>\n",
       "    </tr>\n",
       "    <tr>\n",
       "      <th>675937</th>\n",
       "      <td>LEPHINA ZODWA THOBELA</td>\n",
       "      <td>No, I have had peace and quiet and after the r...</td>\n",
       "      <td>../data/data_saha\\special_hearings\\women's_hea...</td>\n",
       "      <td>38</td>\n",
       "      <td>https://sabctrc.saha.org.za/documents/special/...</td>\n",
       "    </tr>\n",
       "    <tr>\n",
       "      <th>675938</th>\n",
       "      <td>MS SEROKE</td>\n",
       "      <td>We thank you very much for having come forward...</td>\n",
       "      <td>../data/data_saha\\special_hearings\\women's_hea...</td>\n",
       "      <td>39</td>\n",
       "      <td>https://sabctrc.saha.org.za/documents/special/...</td>\n",
       "    </tr>\n",
       "    <tr>\n",
       "      <th>675939</th>\n",
       "      <td>CHAIRPERSON</td>\n",
       "      <td>We thank you very much for having come before ...</td>\n",
       "      <td>../data/data_saha\\special_hearings\\women's_hea...</td>\n",
       "      <td>40</td>\n",
       "      <td>https://sabctrc.saha.org.za/documents/special/...</td>\n",
       "    </tr>\n",
       "  </tbody>\n",
       "</table>\n",
       "<p>675940 rows × 5 columns</p>\n",
       "</div>"
      ],
      "text/plain": [
       "                      speaker  \\\n",
       "0                    MR PRIOR   \n",
       "1                 CHAIRPERSON   \n",
       "2                    MR PRIOR   \n",
       "3                 CHAIRPERSON   \n",
       "4               MR MBANDAZAYO   \n",
       "...                       ...   \n",
       "675935            CHAIRPERSON   \n",
       "675936              MS SEROKE   \n",
       "675937  LEPHINA ZODWA THOBELA   \n",
       "675938              MS SEROKE   \n",
       "675939            CHAIRPERSON   \n",
       "\n",
       "                                                 dialogue  \\\n",
       "0                              May I proceed Mr Chairman?   \n",
       "1                                                    Yes.   \n",
       "2       Mr Chairman, the matter which proceeds this mo...   \n",
       "3                                              Thank you.   \n",
       "4       Thank you Mr Chairman.  Mbandazayo's my name, ...   \n",
       "...                                                   ...   \n",
       "675935                                      Joyce Seroke.   \n",
       "675936  Mrs Thobela, this is a painful story that you ...   \n",
       "675937  No, I have had peace and quiet and after the r...   \n",
       "675938  We thank you very much for having come forward...   \n",
       "675939  We thank you very much for having come before ...   \n",
       "\n",
       "                                                     file  file_index  \\\n",
       "0       ../data/data_saha\\amnesty_hearings\\aliwal_nort...           0   \n",
       "1       ../data/data_saha\\amnesty_hearings\\aliwal_nort...           1   \n",
       "2       ../data/data_saha\\amnesty_hearings\\aliwal_nort...           2   \n",
       "3       ../data/data_saha\\amnesty_hearings\\aliwal_nort...           3   \n",
       "4       ../data/data_saha\\amnesty_hearings\\aliwal_nort...           4   \n",
       "...                                                   ...         ...   \n",
       "675935  ../data/data_saha\\special_hearings\\women's_hea...          36   \n",
       "675936  ../data/data_saha\\special_hearings\\women's_hea...          37   \n",
       "675937  ../data/data_saha\\special_hearings\\women's_hea...          38   \n",
       "675938  ../data/data_saha\\special_hearings\\women's_hea...          39   \n",
       "675939  ../data/data_saha\\special_hearings\\women's_hea...          40   \n",
       "\n",
       "                                                saha_page  \n",
       "0       https://sabctrc.saha.org.za/documents/amntrans...  \n",
       "1       https://sabctrc.saha.org.za/documents/amntrans...  \n",
       "2       https://sabctrc.saha.org.za/documents/amntrans...  \n",
       "3       https://sabctrc.saha.org.za/documents/amntrans...  \n",
       "4       https://sabctrc.saha.org.za/documents/amntrans...  \n",
       "...                                                   ...  \n",
       "675935  https://sabctrc.saha.org.za/documents/special/...  \n",
       "675936  https://sabctrc.saha.org.za/documents/special/...  \n",
       "675937  https://sabctrc.saha.org.za/documents/special/...  \n",
       "675938  https://sabctrc.saha.org.za/documents/special/...  \n",
       "675939  https://sabctrc.saha.org.za/documents/special/...  \n",
       "\n",
       "[675940 rows x 5 columns]"
      ]
     },
     "execution_count": 44,
     "metadata": {},
     "output_type": "execute_result"
    }
   ],
   "source": [
    "df"
   ]
  },
  {
   "cell_type": "code",
   "execution_count": 16,
   "id": "95c9fe44-1970-4a7b-892c-223e272c33a4",
   "metadata": {},
   "outputs": [
    {
     "data": {
      "text/plain": [
       "'CHAIRPERSON'"
      ]
     },
     "execution_count": 16,
     "metadata": {},
     "output_type": "execute_result"
    }
   ],
   "source": [
    "df.iloc[246339].speaker"
   ]
  },
  {
   "cell_type": "code",
   "execution_count": 17,
   "id": "24e76a09-c68d-4f31-9b6c-81efa801c803",
   "metadata": {},
   "outputs": [],
   "source": [
    "with open(\"../data/testimony_top2vec_data.json\", \"w\") as f:\n",
    "    json.dump(segments, f, indent=4)"
   ]
  },
  {
   "cell_type": "code",
   "execution_count": 20,
   "id": "cb5ed5a9-c3f1-48cc-ba23-7e80fe44e261",
   "metadata": {},
   "outputs": [
    {
     "name": "stderr",
     "output_type": "stream",
     "text": [
      "2022-06-16 18:58:31,480 - top2vec - INFO - Pre-processing documents for training\n",
      "2022-06-16 18:59:11,451 - top2vec - INFO - Creating joint document/word embedding\n",
      "2022-06-16 18:45:38,941 - top2vec - INFO - Creating lower dimension embedding of documents\n",
      "2022-06-16 18:53:53,598 - top2vec - INFO - Finding dense areas of documents\n",
      "2022-06-16 18:54:53,760 - top2vec - INFO - Finding topics\n"
     ]
    }
   ],
   "source": [
    "# model = Top2Vec(documents, speed=\"deep-learn\")"
   ]
  },
  {
   "cell_type": "code",
   "execution_count": 21,
   "id": "81ed79de-1f14-4cc6-aa7d-e8cf1870c788",
   "metadata": {},
   "outputs": [],
   "source": [
    "# model.save(\"../data/testimony-top2vec-model\")"
   ]
  },
  {
   "cell_type": "code",
   "execution_count": null,
   "id": "52632e9b-2e6f-420e-a8a8-910e8f0f10ef",
   "metadata": {},
   "outputs": [],
   "source": []
  }
 ],
 "metadata": {
  "kernelspec": {
   "display_name": "Python 3 (ipykernel)",
   "language": "python",
   "name": "python3"
  },
  "language_info": {
   "codemirror_mode": {
    "name": "ipython",
    "version": 3
   },
   "file_extension": ".py",
   "mimetype": "text/x-python",
   "name": "python",
   "nbconvert_exporter": "python",
   "pygments_lexer": "ipython3",
   "version": "3.8.5"
  }
 },
 "nbformat": 4,
 "nbformat_minor": 5
}
