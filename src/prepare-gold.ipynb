{
 "cells": [
  {
   "cell_type": "code",
   "execution_count": 1,
   "id": "ec87ea9e-4b0b-4884-bef4-9a0c6987f01b",
   "metadata": {},
   "outputs": [],
   "source": [
    "import spacy\n",
    "import pandas as pd\n",
    "from spacy import displacy\n",
    "import srsly\n",
    "from spacy.language import Language\n",
    "from spacy.tokens import Span"
   ]
  },
  {
   "cell_type": "code",
   "execution_count": 2,
   "id": "3b50a81b-f276-45a6-a8a2-98a82a1087c5",
   "metadata": {},
   "outputs": [
    {
     "data": {
      "text/html": [
       "<div>\n",
       "<style scoped>\n",
       "    .dataframe tbody tr th:only-of-type {\n",
       "        vertical-align: middle;\n",
       "    }\n",
       "\n",
       "    .dataframe tbody tr th {\n",
       "        vertical-align: top;\n",
       "    }\n",
       "\n",
       "    .dataframe thead th {\n",
       "        text-align: right;\n",
       "    }\n",
       "</style>\n",
       "<table border=\"1\" class=\"dataframe\">\n",
       "  <thead>\n",
       "    <tr style=\"text-align: right;\">\n",
       "      <th></th>\n",
       "      <th>index</th>\n",
       "      <th>full_name</th>\n",
       "      <th>lastname</th>\n",
       "      <th>firstname</th>\n",
       "      <th>description</th>\n",
       "      <th>place</th>\n",
       "      <th>homeland</th>\n",
       "      <th>province</th>\n",
       "      <th>long</th>\n",
       "      <th>lat</th>\n",
       "      <th>hrv</th>\n",
       "      <th>org</th>\n",
       "      <th>date</th>\n",
       "      <th>object_id</th>\n",
       "      <th>coordinates</th>\n",
       "      <th>full_orgs</th>\n",
       "      <th>old_org</th>\n",
       "      <th>age</th>\n",
       "      <th>gender</th>\n",
       "    </tr>\n",
       "  </thead>\n",
       "  <tbody>\n",
       "    <tr>\n",
       "      <th>0</th>\n",
       "      <td>1</td>\n",
       "      <td>Thabo Simon Aaron</td>\n",
       "      <td>AARON</td>\n",
       "      <td>Thabo Simon</td>\n",
       "      <td>An ANCYL member who was shot and severely inju...</td>\n",
       "      <td>[Bethulie]</td>\n",
       "      <td>[nan]</td>\n",
       "      <td>[Orange Free State]</td>\n",
       "      <td>25.97552</td>\n",
       "      <td>-30.50329</td>\n",
       "      <td>[shoot, injure]</td>\n",
       "      <td>[ANCYL (African National Congress Youth League...</td>\n",
       "      <td>[1991-04-17]</td>\n",
       "      <td>1</td>\n",
       "      <td>[25.97552, -30.50329]</td>\n",
       "      <td>[ANCYL (African National Congress Youth League...</td>\n",
       "      <td>[ANC, ANCYL, Police, SAP]</td>\n",
       "      <td>22</td>\n",
       "      <td>[Unknown]</td>\n",
       "    </tr>\n",
       "  </tbody>\n",
       "</table>\n",
       "</div>"
      ],
      "text/plain": [
       "   index          full_name lastname    firstname  \\\n",
       "0      1  Thabo Simon Aaron    AARON  Thabo Simon   \n",
       "\n",
       "                                         description       place homeland  \\\n",
       "0  An ANCYL member who was shot and severely inju...  [Bethulie]    [nan]   \n",
       "\n",
       "              province      long       lat              hrv  \\\n",
       "0  [Orange Free State]  25.97552 -30.50329  [shoot, injure]   \n",
       "\n",
       "                                                 org          date  object_id  \\\n",
       "0  [ANCYL (African National Congress Youth League...  [1991-04-17]          1   \n",
       "\n",
       "             coordinates                                          full_orgs  \\\n",
       "0  [25.97552, -30.50329]  [ANCYL (African National Congress Youth League...   \n",
       "\n",
       "                     old_org  age     gender  \n",
       "0  [ANC, ANCYL, Police, SAP]   22  [Unknown]  "
      ]
     },
     "execution_count": 2,
     "metadata": {},
     "output_type": "execute_result"
    }
   ],
   "source": [
    "df = pd.read_feather(\"../data/full_data_00-00-05\")\n",
    "df.head(1)"
   ]
  },
  {
   "cell_type": "code",
   "execution_count": 3,
   "id": "2fc4f88c-c007-42da-bb6d-13aefd1f8568",
   "metadata": {},
   "outputs": [
    {
     "data": {
      "text/plain": [
       "[array(['ANCYL (African National Congress Youth League)',\n",
       "        'ANC (African National Congress)',\n",
       "        'ANCYL (African National Congress Youth League)',\n",
       "        'ANC (African National Congress)', 'Police',\n",
       "        'SAP (South African Police)', 'SAP (South African Police)'],\n",
       "       dtype=object)]"
      ]
     },
     "execution_count": 3,
     "metadata": {},
     "output_type": "execute_result"
    }
   ],
   "source": [
    "orgs = df.full_orgs.tolist()\n",
    "orgs[:1]"
   ]
  },
  {
   "cell_type": "code",
   "execution_count": 7,
   "id": "6a903d41-133a-4105-9995-86bb25959480",
   "metadata": {},
   "outputs": [
    {
     "name": "stdout",
     "output_type": "stream",
     "text": [
      "10 6 1149 35\n"
     ]
    }
   ],
   "source": [
    "unique_orgs = [\"MK\"]\n",
    "homelands = []\n",
    "provinces = [\"OFS\"]\n",
    "places = [\"Lephoi\", \"Cape\", \"White River\"]\n",
    "hrvs = []\n",
    "for idx, row in df.iterrows():\n",
    "    # print(type(row.full_orgs))\n",
    "    org = row.full_orgs.tolist()\n",
    "    for o in org:\n",
    "        unique_orgs.append(o)\n",
    "        if \"(\" in o:\n",
    "            first, second, *_ = o.split(\"(\")\n",
    "            first = first.strip()\n",
    "            second = second.replace(\")\", \"\").strip()\n",
    "            unique_orgs.append(first)\n",
    "            unique_orgs.append(second)\n",
    "    for homeland in row.homeland.tolist():\n",
    "        if homeland not in homelands and homeland != \"nan\":\n",
    "            homelands.append(homeland)\n",
    "    for province in row.province.tolist():\n",
    "        if province not in provinces and province != \"nan\":\n",
    "            provinces.append(province)\n",
    "    for place in row.place.tolist():\n",
    "        if place not in places and place != \"nan\":\n",
    "            places.append(place)\n",
    "    try:\n",
    "        for hrv in row.hrv.tolist():\n",
    "            if hrv not in hrvs and hrv != \"nan\":\n",
    "                hrvs.append(hrv)\n",
    "    except:\n",
    "        Exception\n",
    "new = list(set(unique_orgs))\n",
    "new.sort()\n",
    "print(len(homelands), len(provinces), len(places), len(hrvs))"
   ]
  },
  {
   "cell_type": "code",
   "execution_count": 8,
   "id": "22edcd25-838f-40ac-bc89-fd37ccfc6e33",
   "metadata": {},
   "outputs": [],
   "source": [
    "def create_patterns(data, label, lemma=False):\n",
    "    if lemma == False:\n",
    "        return [{\"label\": label, \"pattern\": pattern} for pattern in data]\n",
    "    else:\n",
    "        all_patterns =[]\n",
    "        for item in data:\n",
    "            lemma_patterns = []\n",
    "            for pattern in item.split():\n",
    "                lemma_patterns.append({\"LEMMA\": pattern})\n",
    "            all_patterns.append(lemma_patterns)\n",
    "        return [{\"label\": label, \"pattern\": pattern} for pattern in all_patterns]"
   ]
  },
  {
   "cell_type": "code",
   "execution_count": 9,
   "id": "584e130a-4d24-4b08-a8ff-cb25ed0ab002",
   "metadata": {},
   "outputs": [],
   "source": [
    "# hrvs"
   ]
  },
  {
   "cell_type": "code",
   "execution_count": 10,
   "id": "224e1b2e-37b0-42bc-ad02-e0260587bcf2",
   "metadata": {},
   "outputs": [
    {
     "name": "stdout",
     "output_type": "stream",
     "text": [
      "['kill', 'rape', 'petrol bomb', 'stone to death', 'kick', 'shoot dead', 'stab to death', 'shoot', 'injure', 'beat', 'blind', 'stab', 'stone', 'kill', 'burn', 'bomb', 'detain', 'assault', 'torture', 'arrest', 'convict', 'necklace', 'steal', 'imprison', 'destroy', 'interrogate', 'abduct', 'sexual', 'explode', 'mutilate', 'execute', 'intimidate', 'poison', 'frame', 'suffocate', 'drown', 'incarcerate', 'deprive', 'confine', 'shock', 'expose', 'electrocute']\n"
     ]
    }
   ],
   "source": [
    "nlp = spacy.load(\"en_core_web_sm\")\n",
    "hrv_lemmas = [\"burn to death\", \"kill\", \"rape\", \"petrol bomb\", \"stone to death\", \"kick\", \"shoot dead\", \"stab to death\"]\n",
    "for hrv in hrvs:\n",
    "    doc = nlp(hrv)\n",
    "    hrv_lemmas.append(doc[0].lemma_)\n",
    "print(hrv_lemmas)\n",
    "hrv_lemmas.remove(\"convict\")"
   ]
  },
  {
   "cell_type": "code",
   "execution_count": 11,
   "id": "6e04425a-4aa4-478d-850a-d15ece3af262",
   "metadata": {},
   "outputs": [],
   "source": [
    "def load_list(file):\n",
    "    with open(file, \"r\", encoding=\"utf-8\") as f:\n",
    "        data = f.read().splitlines()\n",
    "    return data\n",
    "weapons = load_list(\"../assets/weapon.txt\")\n",
    "events = load_list(\"../assets/event.txt\")"
   ]
  },
  {
   "cell_type": "code",
   "execution_count": 12,
   "id": "6c343d11-9b74-4b10-9bef-e55a37aa1174",
   "metadata": {},
   "outputs": [],
   "source": [
    "patterns = create_patterns(new, \"ORG\")"
   ]
  },
  {
   "cell_type": "code",
   "execution_count": 13,
   "id": "6d9c2f24-0c35-4010-b28c-f128b38a14fd",
   "metadata": {},
   "outputs": [],
   "source": [
    "patterns = patterns+create_patterns(weapons, \"WEAPON\", lemma=True)\n",
    "patterns = patterns+create_patterns(events, \"EVENT\", lemma=True)\n",
    "patterns = patterns+create_patterns(homelands, \"HOMELAND\")\n",
    "patterns = patterns+create_patterns(provinces, \"PROVINCE\")\n",
    "patterns = patterns+create_patterns(places, \"GPE\")\n",
    "patterns = patterns+create_patterns(hrv_lemmas, \"HRV\", lemma=True)"
   ]
  },
  {
   "cell_type": "code",
   "execution_count": 14,
   "id": "7719ba2a-0f95-428b-b88c-9fd364c64508",
   "metadata": {},
   "outputs": [
    {
     "data": {
      "text/plain": [
       "[{'label': 'EVENT', 'pattern': [{'LEMMA': 'Soweto'}, {'LEMMA': 'uprising'}]},\n",
       " {'label': 'EVENT',\n",
       "  'pattern': [{'LEMMA': 'trojan'}, {'LEMMA': 'horse'}, {'LEMMA': 'incident'}]},\n",
       " {'label': 'EVENT',\n",
       "  'pattern': [{'LEMMA': 'Trojan'}, {'LEMMA': 'Horse'}, {'LEMMA': 'Incident'}]},\n",
       " {'label': 'EVENT',\n",
       "  'pattern': [{'LEMMA': 'Church'}, {'LEMMA': 'Street'}, {'LEMMA': 'Bombing'}]},\n",
       " {'label': 'EVENT',\n",
       "  'pattern': [{'LEMMA': '1985'}, {'LEMMA': 'school'}, {'LEMMA': 'boycotts'}]}]"
      ]
     },
     "execution_count": 14,
     "metadata": {},
     "output_type": "execute_result"
    }
   ],
   "source": [
    "create_patterns(events, \"EVENT\", lemma=True)"
   ]
  },
  {
   "cell_type": "code",
   "execution_count": 15,
   "id": "f3e8a8cd-ff40-4d34-b3ab-4fdfb1ca122c",
   "metadata": {},
   "outputs": [],
   "source": [
    "nlp = spacy.load(\"en_core_web_sm\")"
   ]
  },
  {
   "cell_type": "code",
   "execution_count": 16,
   "id": "de32ba77-c6d3-4fbd-a676-177ffe668f83",
   "metadata": {},
   "outputs": [],
   "source": [
    "@Language.component(\"keep_dates\")\n",
    "def keep_dates(doc):\n",
    "    ents = []\n",
    "    for ent in doc.ents:\n",
    "        if ent.label_ == \"DATE\":\n",
    "            ents.append(ent)\n",
    "    doc.ents = ents\n",
    "    return doc"
   ]
  },
  {
   "cell_type": "code",
   "execution_count": 17,
   "id": "84ed864d-fb3a-49a0-9d9d-154ed1841300",
   "metadata": {},
   "outputs": [],
   "source": [
    "@Language.component(\"find_adverb\")\n",
    "def find_adverb(doc):\n",
    "    ents = []\n",
    "    for ent in doc.ents:\n",
    "        if ent.label_ == \"HRV\":\n",
    "            if doc[ent.start-1].pos_ == \"ADV\" and doc[ent.start-1].text != \"then\":\n",
    "                new_ent = Span(doc, ent.start-1, ent.end, label=ent.label_)\n",
    "                ents.append(new_ent)\n",
    "            elif doc[ent.start+1].pos_ == \"ADV\":\n",
    "                new_ent = Span(doc, ent.start, ent.end+1, label=ent.label_)\n",
    "                ents.append(new_ent)\n",
    "            else:\n",
    "                ents.append(ent)\n",
    "        else:\n",
    "            ents.append(ent)\n",
    "    doc.ents = ents\n",
    "    return doc"
   ]
  },
  {
   "cell_type": "code",
   "execution_count": 18,
   "id": "11a900c2-e35f-4b76-a5a4-4e77f16f0813",
   "metadata": {},
   "outputs": [],
   "source": [
    "@Language.component(\"police_stations\")\n",
    "def police_stations(doc):\n",
    "    ents = list(doc.ents)\n",
    "    \n",
    "    for chunk in doc.noun_chunks:\n",
    "        if \"police station\" in chunk.text.lower():\n",
    "            new_ent = Span(doc, chunk.start, chunk.end, label=\"POLICE_STATION\")\n",
    "            ents.append(new_ent)\n",
    "    doc.ents = ents\n",
    "    return doc"
   ]
  },
  {
   "cell_type": "code",
   "execution_count": 19,
   "id": "5d0f3c58-0911-49fe-b4c9-1205dcf22005",
   "metadata": {},
   "outputs": [
    {
     "data": {
      "text/plain": [
       "<function __main__.police_stations(doc)>"
      ]
     },
     "execution_count": 19,
     "metadata": {},
     "output_type": "execute_result"
    }
   ],
   "source": [
    "nlp.add_pipe(\"keep_dates\")\n",
    "nlp.add_pipe(\"police_stations\")"
   ]
  },
  {
   "cell_type": "code",
   "execution_count": 20,
   "id": "efcbbec3-64ef-4ecf-9fec-1bf1416c2822",
   "metadata": {},
   "outputs": [],
   "source": [
    "ruler = nlp.add_pipe(\"entity_ruler\")"
   ]
  },
  {
   "cell_type": "code",
   "execution_count": 21,
   "id": "122fb046-9421-43d7-ba0a-a4ae290d64a2",
   "metadata": {},
   "outputs": [],
   "source": [
    "ruler.add_patterns(patterns)"
   ]
  },
  {
   "cell_type": "code",
   "execution_count": 22,
   "id": "531dcdd6-c649-488f-ba5a-348740c4b395",
   "metadata": {},
   "outputs": [
    {
     "data": {
      "text/plain": [
       "<function __main__.find_adverb(doc)>"
      ]
     },
     "execution_count": 22,
     "metadata": {},
     "output_type": "execute_result"
    }
   ],
   "source": [
    "nlp.add_pipe(\"find_adverb\")"
   ]
  },
  {
   "cell_type": "code",
   "execution_count": 25,
   "id": "bfa3100d-2af7-45b1-9f1b-436ead1cd05c",
   "metadata": {},
   "outputs": [],
   "source": [
    "nlp.to_disk(\"../models/vol7_heuristic\")"
   ]
  },
  {
   "cell_type": "code",
   "execution_count": 24,
   "id": "827a744f-013f-4bde-9bc4-2a547f4bf47d",
   "metadata": {},
   "outputs": [
    {
     "data": {
      "text/html": [
       "<span class=\"tex2jax_ignore\"><div class=\"entities\" style=\"line-height: 2.5; direction: ltr\">Was \n",
       "<mark class=\"entity\" style=\"background: #ddd; padding: 0.45em 0.6em; margin: 0 0.25em; line-height: 1; border-radius: 0.35em;\">\n",
       "    injured\n",
       "    <span style=\"font-size: 0.8em; font-weight: bold; line-height: 1; border-radius: 0.35em; vertical-align: middle; margin-left: 0.5rem\">HRV</span>\n",
       "</mark>\n",
       " when \n",
       "<mark class=\"entity\" style=\"background: #7aecec; padding: 0.45em 0.6em; margin: 0 0.25em; line-height: 1; border-radius: 0.35em;\">\n",
       "    MK\n",
       "    <span style=\"font-size: 0.8em; font-weight: bold; line-height: 1; border-radius: 0.35em; vertical-align: middle; margin-left: 0.5rem\">ORG</span>\n",
       "</mark>\n",
       " operatives detonated a \n",
       "<mark class=\"entity\" style=\"background: #ddd; padding: 0.45em 0.6em; margin: 0 0.25em; line-height: 1; border-radius: 0.35em;\">\n",
       "    limpet mine\n",
       "    <span style=\"font-size: 0.8em; font-weight: bold; line-height: 1; border-radius: 0.35em; vertical-align: middle; margin-left: 0.5rem\">WEAPON</span>\n",
       "</mark>\n",
       " in a dustbin at the Vanderbijl Square bus terminus, \n",
       "<mark class=\"entity\" style=\"background: #feca74; padding: 0.45em 0.6em; margin: 0 0.25em; line-height: 1; border-radius: 0.35em;\">\n",
       "    Johannesburg\n",
       "    <span style=\"font-size: 0.8em; font-weight: bold; line-height: 1; border-radius: 0.35em; vertical-align: middle; margin-left: 0.5rem\">GPE</span>\n",
       "</mark>\n",
       ", on \n",
       "<mark class=\"entity\" style=\"background: #bfe1d9; padding: 0.45em 0.6em; margin: 0 0.25em; line-height: 1; border-radius: 0.35em;\">\n",
       "    21 September 1988\n",
       "    <span style=\"font-size: 0.8em; font-weight: bold; line-height: 1; border-radius: 0.35em; vertical-align: middle; margin-left: 0.5rem\">DATE</span>\n",
       "</mark>\n",
       ". Nineteen people were \n",
       "<mark class=\"entity\" style=\"background: #ddd; padding: 0.45em 0.6em; margin: 0 0.25em; line-height: 1; border-radius: 0.35em;\">\n",
       "    injured\n",
       "    <span style=\"font-size: 0.8em; font-weight: bold; line-height: 1; border-radius: 0.35em; vertical-align: middle; margin-left: 0.5rem\">HRV</span>\n",
       "</mark>\n",
       " and a number of vehicles and buildings were damaged. Two \n",
       "<mark class=\"entity\" style=\"background: #7aecec; padding: 0.45em 0.6em; margin: 0 0.25em; line-height: 1; border-radius: 0.35em;\">\n",
       "    MK\n",
       "    <span style=\"font-size: 0.8em; font-weight: bold; line-height: 1; border-radius: 0.35em; vertical-align: middle; margin-left: 0.5rem\">ORG</span>\n",
       "</mark>\n",
       " Special Operations operatives were granted amnesty (AC/2000/056). A late application by a third \n",
       "<mark class=\"entity\" style=\"background: #7aecec; padding: 0.45em 0.6em; margin: 0 0.25em; line-height: 1; border-radius: 0.35em;\">\n",
       "    MK\n",
       "    <span style=\"font-size: 0.8em; font-weight: bold; line-height: 1; border-radius: 0.35em; vertical-align: middle; margin-left: 0.5rem\">ORG</span>\n",
       "</mark>\n",
       " operative was dismissed.</div></span>"
      ],
      "text/plain": [
       "<IPython.core.display.HTML object>"
      ]
     },
     "metadata": {},
     "output_type": "display_data"
    }
   ],
   "source": [
    "doc = nlp(df.description.tolist()[38])\n",
    "displacy.render(doc, style=\"ent\", jupyter=True)"
   ]
  },
  {
   "cell_type": "code",
   "execution_count": 140,
   "id": "4038ab71-bd16-4766-8521-5a42ba4ccd3e",
   "metadata": {},
   "outputs": [
    {
     "name": "stdout",
     "output_type": "stream",
     "text": [
      "A cleric\n",
      "chairperson\n",
      "the Pietermaritzburg Council\n",
      "Churches\n",
      "who\n",
      "Imbali\n",
      "Pietermaritzburg\n",
      "4 May\n",
      "his child\n",
      "school\n",
      "A named Inkatha member\n",
      "the murder\n",
      "appeal\n"
     ]
    }
   ],
   "source": [
    "for chunk in doc.noun_chunks:\n",
    "    print(chunk)"
   ]
  },
  {
   "cell_type": "code",
   "execution_count": 19,
   "id": "36f39134-1c4f-4f43-93a8-1cf1ea764bfe",
   "metadata": {},
   "outputs": [],
   "source": [
    "# phrases = []\n",
    "# for text in df.description.tolist():\n",
    "#     doc = nlp(text)\n",
    "#     for i, token in enumerate(doc):\n",
    "#         if token.text == \"with\":\n",
    "#             # print(\" \".join([t.text for t in token.subtree]))\n",
    "#             phrases.append(token.subtree)"
   ]
  },
  {
   "cell_type": "code",
   "execution_count": null,
   "id": "801aae1a-cfbc-4e41-8717-3547dce525fd",
   "metadata": {},
   "outputs": [],
   "source": [
    "# len(phrases)"
   ]
  },
  {
   "cell_type": "code",
   "execution_count": 87,
   "id": "941d410b-6c6e-4175-8936-bf2c86248364",
   "metadata": {
    "jupyter": {
     "source_hidden": true
    },
    "tags": []
   },
   "outputs": [],
   "source": [
    "def get_annotations(text, name):\n",
    "    annotated_data = []\n",
    "\n",
    "    annotations = [{\"start\": 0, \"end\": len(name)-1,\n",
    "                                \"label\": \"VICTIM\", \"token_start\": 0,\n",
    "                                \"token_end\": len(name.split())-1}, {\"start\": 0, \"end\": len(name)-1,\n",
    "                                \"label\": \"PERSON\", \"token_start\": 0,\n",
    "                                \"token_end\": len(name.split())-1}]\n",
    "    doc = nlp(text)\n",
    "    for span in doc.ents:\n",
    "        # if span.label_ in [\"HRV\", \"PROVINCE\", \"HOMELAND\", \"GPE\", \"ORG\", \"DATE\", \"EVENT\"]:\n",
    "        annotations.append({\"start\": span.start_char, \"end\": span.end_char,\n",
    "                                \"label\": span.label_, \"token_start\": span.start,\n",
    "                                \"token_end\": span.end-1})\n",
    "    for sent in doc.sents:\n",
    "        annotations.append({\"start\": sent.start_char, \"end\": sent.end_char,\n",
    "                                \"label\": \"VIOLENT_ACT\", \"token_start\": sent.start,\n",
    "                                \"token_end\": sent.end-1})\n",
    "    # print(annotations)\n",
    "    result = [dict(tupleized) for tupleized in set(tuple(item.items()) for item in annotations)]\n",
    "    # print(result)\n",
    "    annotated_data.append({\"text\": doc.text, \"spans\": result})\n",
    "    return annotated_data"
   ]
  },
  {
   "cell_type": "code",
   "execution_count": 88,
   "id": "78e28389-a8de-44fa-ac0b-653ac9691a03",
   "metadata": {},
   "outputs": [],
   "source": [
    "prodigy_data = []\n",
    "for idx, row in df.iterrows():\n",
    "    name = row.full_name\n",
    "    d = row.description\n",
    "    if \"Was\" == d[:3]:\n",
    "        d = f\"{name} {d[0].lower()}{d[1:]}\"\n",
    "    elif \"A\" == d[0]:\n",
    "        d = f\"{name} was {d[0].lower()}{d[1:]}\"\n",
    "    prodigy_data = prodigy_data+get_annotations(d, name)\n",
    "    if len(prodigy_data) > 50:\n",
    "        break"
   ]
  },
  {
   "cell_type": "code",
   "execution_count": null,
   "id": "f0512765-d7a2-4535-9b4a-ee106c53af9e",
   "metadata": {},
   "outputs": [],
   "source": [
    "# prodigy_data"
   ]
  },
  {
   "cell_type": "code",
   "execution_count": 89,
   "id": "48b456ef-d82f-40bb-8db8-0e4aa36b8544",
   "metadata": {},
   "outputs": [],
   "source": [
    "srsly.write_jsonl(\"C:\\\\Users\\wma22\\\\OneDrive\\\\Documents\\\\GitHub\\\\bap-vol7-gold\\\\to_annotate\\\\vol7_prodigy.jsonl\", prodigy_data)"
   ]
  },
  {
   "cell_type": "code",
   "execution_count": null,
   "id": "66485bb7-5ca7-42e9-8900-067942702da7",
   "metadata": {},
   "outputs": [],
   "source": [
    "prodigy_data[0]"
   ]
  },
  {
   "cell_type": "code",
   "execution_count": null,
   "id": "eefefcb7-94c7-4407-9e57-9e73285738d0",
   "metadata": {},
   "outputs": [],
   "source": [
    "# python -m prodigy spans.manual vol7 blank:en ./to_annotate/vol7_prodigy.jsonl --label HRV,HOMELAND,PROVINCE,ORG,DATE,WEAPON,VIOLENT_ACT,GPE,EVENT,VICTIM,PERSON,POLICE_STATION"
   ]
  },
  {
   "cell_type": "code",
   "execution_count": null,
   "id": "5b1016e3-1c29-4081-a19b-5899af78fef9",
   "metadata": {},
   "outputs": [],
   "source": []
  }
 ],
 "metadata": {
  "kernelspec": {
   "display_name": "Python 3 (ipykernel)",
   "language": "python",
   "name": "python3"
  },
  "language_info": {
   "codemirror_mode": {
    "name": "ipython",
    "version": 3
   },
   "file_extension": ".py",
   "mimetype": "text/x-python",
   "name": "python",
   "nbconvert_exporter": "python",
   "pygments_lexer": "ipython3",
   "version": "3.8.5"
  }
 },
 "nbformat": 4,
 "nbformat_minor": 5
}
