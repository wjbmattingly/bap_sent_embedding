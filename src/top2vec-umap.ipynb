{
 "cells": [
  {
   "cell_type": "code",
   "execution_count": 33,
   "id": "76f50c40-86f5-478c-8dd2-3bdd42d55a18",
   "metadata": {},
   "outputs": [],
   "source": [
    "from top2vec import Top2Vec\n",
    "import umap\n",
    "import pandas as pd"
   ]
  },
  {
   "cell_type": "code",
   "execution_count": 13,
   "id": "5f665350-d668-4271-993e-8d2018859229",
   "metadata": {},
   "outputs": [],
   "source": [
    "model = Top2Vec.load(\"../data/top2vec-model\")"
   ]
  },
  {
   "cell_type": "code",
   "execution_count": 26,
   "id": "27c0f061-f968-46c2-b98a-e03da151504c",
   "metadata": {},
   "outputs": [],
   "source": [
    "doc_vecs = model.document_vectors"
   ]
  },
  {
   "cell_type": "code",
   "execution_count": 27,
   "id": "63789198-32e8-4eec-bdb0-344e3c4bdc59",
   "metadata": {},
   "outputs": [
    {
     "name": "stdout",
     "output_type": "stream",
     "text": [
      "UMAP(angular_rp_forest=True, metric='cosine', random_state=42, verbose=True)\n",
      "Tue Sep 13 15:41:04 2022 Construct fuzzy simplicial set\n",
      "Tue Sep 13 15:41:04 2022 Finding Nearest Neighbors\n",
      "Tue Sep 13 15:41:04 2022 Building RP forest with 12 trees\n",
      "Tue Sep 13 15:41:04 2022 NN descent for 14 iterations\n",
      "\t 1  /  14\n",
      "\t 2  /  14\n",
      "\t 3  /  14\n",
      "\t 4  /  14\n",
      "\t 5  /  14\n",
      "\t 6  /  14\n",
      "\t 7  /  14\n",
      "\tStopping threshold met -- exiting after 7 iterations\n",
      "Tue Sep 13 15:41:16 2022 Finished Nearest Neighbor Search\n",
      "Tue Sep 13 15:41:18 2022 Construct embedding\n"
     ]
    },
    {
     "data": {
      "application/vnd.jupyter.widget-view+json": {
       "model_id": "1d1f54f0d1754b16a1613f7f0660a906",
       "version_major": 2,
       "version_minor": 0
      },
      "text/plain": [
       "Epochs completed:   0%|            0/200 [00:00]"
      ]
     },
     "metadata": {},
     "output_type": "display_data"
    },
    {
     "name": "stdout",
     "output_type": "stream",
     "text": [
      "Tue Sep 13 15:41:31 2022 Finished embedding\n"
     ]
    }
   ],
   "source": [
    "docs_reduced = umap.UMAP(n_components=2, \n",
    "                         n_neighbors=15, \n",
    "                         metric=\"cosine\", \n",
    "                         min_dist=.10, \n",
    "                         random_state=42, \n",
    "                         verbose=True).fit_transform(doc_vecs)"
   ]
  },
  {
   "cell_type": "code",
   "execution_count": 28,
   "id": "dc5e7c03-a43d-4b98-9485-ad93f343ef30",
   "metadata": {},
   "outputs": [],
   "source": [
    "x, y = docs_reduced[:,0], docs_reduced[:,1]"
   ]
  },
  {
   "cell_type": "code",
   "execution_count": 31,
   "id": "d773b553-ac7b-4588-b2d9-0dc55245bc93",
   "metadata": {},
   "outputs": [
    {
     "data": {
      "text/plain": [
       "array([11.140438 ,  5.0996666], dtype=float32)"
      ]
     },
     "execution_count": 31,
     "metadata": {},
     "output_type": "execute_result"
    }
   ],
   "source": [
    "docs_reduced[0]"
   ]
  },
  {
   "cell_type": "code",
   "execution_count": 40,
   "id": "4b859aac-d344-4ddf-aeb0-15b51f224c9a",
   "metadata": {},
   "outputs": [
    {
     "data": {
      "text/html": [
       "<div>\n",
       "<style scoped>\n",
       "    .dataframe tbody tr th:only-of-type {\n",
       "        vertical-align: middle;\n",
       "    }\n",
       "\n",
       "    .dataframe tbody tr th {\n",
       "        vertical-align: top;\n",
       "    }\n",
       "\n",
       "    .dataframe thead th {\n",
       "        text-align: right;\n",
       "    }\n",
       "</style>\n",
       "<table border=\"1\" class=\"dataframe\">\n",
       "  <thead>\n",
       "    <tr style=\"text-align: right;\">\n",
       "      <th></th>\n",
       "      <th>names</th>\n",
       "      <th>descriptions</th>\n",
       "      <th>x</th>\n",
       "      <th>y</th>\n",
       "    </tr>\n",
       "  </thead>\n",
       "  <tbody>\n",
       "    <tr>\n",
       "      <th>0</th>\n",
       "      <td>AARON, Thabo Simon</td>\n",
       "      <td>An ANCYL member who was shot and severely inju...</td>\n",
       "      <td>11.140438</td>\n",
       "      <td>5.099667</td>\n",
       "    </tr>\n",
       "    <tr>\n",
       "      <th>1</th>\n",
       "      <td>ABBOTT, Montaigne</td>\n",
       "      <td>A member of the SADF who was severely injured ...</td>\n",
       "      <td>-1.444161</td>\n",
       "      <td>6.536125</td>\n",
       "    </tr>\n",
       "    <tr>\n",
       "      <th>2</th>\n",
       "      <td>ABDUL WAHAB, Zakier</td>\n",
       "      <td>A member of QIBLA who disappeared in September...</td>\n",
       "      <td>11.950356</td>\n",
       "      <td>3.509796</td>\n",
       "    </tr>\n",
       "    <tr>\n",
       "      <th>3</th>\n",
       "      <td>ABRAHAM, Nzaliseko Christopher</td>\n",
       "      <td>A COSAS supporter who was kicked and beaten wi...</td>\n",
       "      <td>12.909900</td>\n",
       "      <td>3.337954</td>\n",
       "    </tr>\n",
       "    <tr>\n",
       "      <th>4</th>\n",
       "      <td>ABRAHAMS, Achmat Fardiel</td>\n",
       "      <td>Was shot and blinded in one eye by members of ...</td>\n",
       "      <td>9.453081</td>\n",
       "      <td>4.147158</td>\n",
       "    </tr>\n",
       "    <tr>\n",
       "      <th>...</th>\n",
       "      <td>...</td>\n",
       "      <td>...</td>\n",
       "      <td>...</td>\n",
       "      <td>...</td>\n",
       "    </tr>\n",
       "    <tr>\n",
       "      <th>21742</th>\n",
       "      <td>ZWENI, Ernest</td>\n",
       "      <td>One of two South African Police (SAP) members ...</td>\n",
       "      <td>10.969004</td>\n",
       "      <td>7.317764</td>\n",
       "    </tr>\n",
       "    <tr>\n",
       "      <th>21743</th>\n",
       "      <td>ZWENI, Lebuti</td>\n",
       "      <td>An ANC supporter who was shot dead by a named ...</td>\n",
       "      <td>12.706614</td>\n",
       "      <td>3.257304</td>\n",
       "    </tr>\n",
       "    <tr>\n",
       "      <th>21744</th>\n",
       "      <td>ZWENI, Louis</td>\n",
       "      <td>Was shot dead in Tokoza, Transvaal, on 22 May ...</td>\n",
       "      <td>8.457070</td>\n",
       "      <td>1.689013</td>\n",
       "    </tr>\n",
       "    <tr>\n",
       "      <th>21745</th>\n",
       "      <td>ZWENI, Mpantesa William</td>\n",
       "      <td>His home was lost in an arson attack by Witdoe...</td>\n",
       "      <td>0.931539</td>\n",
       "      <td>2.989026</td>\n",
       "    </tr>\n",
       "    <tr>\n",
       "      <th>21746</th>\n",
       "      <td>ZWENI, Xolile Milton</td>\n",
       "      <td>A Transkei Defence Force (TDF) soldier who was...</td>\n",
       "      <td>15.264451</td>\n",
       "      <td>9.677507</td>\n",
       "    </tr>\n",
       "  </tbody>\n",
       "</table>\n",
       "<p>21747 rows × 4 columns</p>\n",
       "</div>"
      ],
      "text/plain": [
       "                                names  \\\n",
       "0                  AARON, Thabo Simon   \n",
       "1                   ABBOTT, Montaigne   \n",
       "2                 ABDUL WAHAB, Zakier   \n",
       "3      ABRAHAM, Nzaliseko Christopher   \n",
       "4            ABRAHAMS, Achmat Fardiel   \n",
       "...                               ...   \n",
       "21742                   ZWENI, Ernest   \n",
       "21743                   ZWENI, Lebuti   \n",
       "21744                    ZWENI, Louis   \n",
       "21745         ZWENI, Mpantesa William   \n",
       "21746            ZWENI, Xolile Milton   \n",
       "\n",
       "                                            descriptions          x         y  \n",
       "0      An ANCYL member who was shot and severely inju...  11.140438  5.099667  \n",
       "1      A member of the SADF who was severely injured ...  -1.444161  6.536125  \n",
       "2      A member of QIBLA who disappeared in September...  11.950356  3.509796  \n",
       "3      A COSAS supporter who was kicked and beaten wi...  12.909900  3.337954  \n",
       "4      Was shot and blinded in one eye by members of ...   9.453081  4.147158  \n",
       "...                                                  ...        ...       ...  \n",
       "21742  One of two South African Police (SAP) members ...  10.969004  7.317764  \n",
       "21743  An ANC supporter who was shot dead by a named ...  12.706614  3.257304  \n",
       "21744  Was shot dead in Tokoza, Transvaal, on 22 May ...   8.457070  1.689013  \n",
       "21745  His home was lost in an arson attack by Witdoe...   0.931539  2.989026  \n",
       "21746  A Transkei Defence Force (TDF) soldier who was...  15.264451  9.677507  \n",
       "\n",
       "[21747 rows x 4 columns]"
      ]
     },
     "execution_count": 40,
     "metadata": {},
     "output_type": "execute_result"
    }
   ],
   "source": [
    "df = pd.read_json(\"../data/vol7.json\")\n",
    "df['x'] = x\n",
    "df['y'] = y\n",
    "df"
   ]
  },
  {
   "cell_type": "code",
   "execution_count": 59,
   "id": "403353b1-cc0b-4109-9254-956a17726331",
   "metadata": {},
   "outputs": [],
   "source": [
    "topic_words, word_scores, topic_nums = model.get_topics()"
   ]
  },
  {
   "cell_type": "code",
   "execution_count": 63,
   "id": "82350dbb-2456-4d74-8905-e5c92f9562d1",
   "metadata": {},
   "outputs": [],
   "source": [
    "topic_sizes, topic_nums = model.get_topic_sizes()"
   ]
  },
  {
   "cell_type": "code",
   "execution_count": 64,
   "id": "020ff976-d3b3-4890-a24f-6bb6d495e8a1",
   "metadata": {},
   "outputs": [
    {
     "data": {
      "text/plain": [
       "array([646, 327, 297, 261, 235, 234, 230, 225, 217, 205, 195, 192, 192,\n",
       "       187, 187, 184, 171, 162, 154, 150, 146, 146, 145, 135, 133, 132,\n",
       "       131, 130, 127, 126, 124, 122, 122, 120, 119, 119, 119, 119, 119,\n",
       "       117, 117, 116, 116, 114, 114, 113, 112, 112, 112, 111, 111, 111,\n",
       "       111, 110, 108, 107, 107, 106, 105, 102, 101, 100, 100,  98,  97,\n",
       "        97,  97,  95,  95,  94,  94,  94,  93,  92,  91,  91,  91,  91,\n",
       "        87,  87,  87,  85,  85,  85,  83,  82,  82,  82,  82,  81,  81,\n",
       "        81,  81,  80,  80,  80,  79,  79,  79,  79,  78,  78,  78,  78,\n",
       "        78,  78,  78,  78,  78,  77,  77,  77,  77,  76,  76,  75,  75,\n",
       "        74,  74,  74,  74,  73,  73,  72,  72,  72,  72,  72,  72,  71,\n",
       "        70,  70,  69,  69,  69,  68,  68,  68,  67,  66,  66,  66,  66,\n",
       "        66,  66,  65,  65,  64,  64,  63,  63,  63,  62,  62,  62,  62,\n",
       "        61,  61,  61,  61,  60,  60,  58,  58,  58,  57,  57,  57,  57,\n",
       "        56,  56,  56,  56,  56,  56,  56,  56,  55,  55,  55,  54,  54,\n",
       "        53,  53,  53,  53,  53,  53,  53,  53,  53,  53,  52,  52,  52,\n",
       "        52,  52,  51,  51,  51,  50,  50,  50,  50,  49,  49,  49,  49,\n",
       "        48,  47,  47,  46,  45,  45,  45,  44,  44,  44,  44,  43,  42,\n",
       "        42,  42,  41,  41,  41,  41,  39,  39,  39,  38,  38,  38,  37,\n",
       "        37,  36,  36,  36,  35,  35,  34,  33,  32,  31,  31,  30,  29,\n",
       "        29,  29,  28,  28,  28,  27,  26,  26,  25,  25,  24,  24,  24,\n",
       "        23,  22,  21,  20,  19,  19,  18], dtype=int64)"
      ]
     },
     "execution_count": 64,
     "metadata": {},
     "output_type": "execute_result"
    }
   ],
   "source": [
    "topic_sizes"
   ]
  },
  {
   "cell_type": "code",
   "execution_count": 68,
   "id": "aa4084e1-2d31-419e-8493-d7516a3d9ddf",
   "metadata": {},
   "outputs": [],
   "source": [
    "all_docs = {}\n",
    "for topic_num, num_docs in zip(topic_nums, topic_sizes):\n",
    "    documents, document_scores, document_ids = model.search_documents_by_topic(topic_num=topic_num, num_docs=num_docs)\n",
    "    for document in document_ids:\n",
    "        \n",
    "        all_docs[document] = topic_num"
   ]
  },
  {
   "cell_type": "code",
   "execution_count": 72,
   "id": "1ef790ac-e05a-4694-ab76-9640588c2693",
   "metadata": {},
   "outputs": [],
   "source": [
    "final_topics = []\n",
    "for i in range(len(all_docs)):\n",
    "    final_topics.append(all_docs[i])"
   ]
  },
  {
   "cell_type": "code",
   "execution_count": 71,
   "id": "763c116e-1ceb-4b0b-82ee-fb0bc410b7e5",
   "metadata": {},
   "outputs": [
    {
     "data": {
      "text/plain": [
       "21747"
      ]
     },
     "execution_count": 71,
     "metadata": {},
     "output_type": "execute_result"
    }
   ],
   "source": [
    "len(all_docs)"
   ]
  },
  {
   "cell_type": "code",
   "execution_count": 73,
   "id": "3991f08b-bca2-46f0-8647-4b9d3c9f193f",
   "metadata": {},
   "outputs": [
    {
     "data": {
      "text/plain": [
       "[4, 137, 151, 199, 55, 102, 220, 14, 13, 19]"
      ]
     },
     "execution_count": 73,
     "metadata": {},
     "output_type": "execute_result"
    }
   ],
   "source": [
    "final_topics[:10]"
   ]
  },
  {
   "cell_type": "code",
   "execution_count": null,
   "id": "d9f74448-a7e3-4cca-be54-435591af7416",
   "metadata": {},
   "outputs": [],
   "source": []
  }
 ],
 "metadata": {
  "kernelspec": {
   "display_name": "Python 3 (ipykernel)",
   "language": "python",
   "name": "python3"
  },
  "language_info": {
   "codemirror_mode": {
    "name": "ipython",
    "version": 3
   },
   "file_extension": ".py",
   "mimetype": "text/x-python",
   "name": "python",
   "nbconvert_exporter": "python",
   "pygments_lexer": "ipython3",
   "version": "3.8.5"
  }
 },
 "nbformat": 4,
 "nbformat_minor": 5
}
